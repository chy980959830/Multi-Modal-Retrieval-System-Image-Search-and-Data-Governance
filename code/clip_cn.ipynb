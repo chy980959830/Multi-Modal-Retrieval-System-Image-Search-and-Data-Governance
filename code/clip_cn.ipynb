{
 "cells": [
  {
   "cell_type": "markdown",
   "id": "f05d5bc1-821c-48f6-b9a3-f0d8b59f60d8",
   "metadata": {},
   "source": [
    "# 中文CLIP分类"
   ]
  },
  {
   "cell_type": "code",
   "execution_count": 1,
   "id": "6e414eaf-d28c-480e-8db1-0d1a54a1bbe2",
   "metadata": {},
   "outputs": [
    {
     "name": "stderr",
     "output_type": "stream",
     "text": [
      "/root/miniconda3/envs/llava/lib/python3.10/site-packages/tqdm/auto.py:21: TqdmWarning: IProgress not found. Please update jupyter and ipywidgets. See https://ipywidgets.readthedocs.io/en/stable/user_install.html\n",
      "  from .autonotebook import tqdm as notebook_tqdm\n"
     ]
    }
   ],
   "source": [
    "from PIL import Image\n",
    "import requests\n",
    "import clip\n",
    "import torch\n",
    "from transformers import BertForSequenceClassification, BertConfig, BertTokenizer\n",
    "from transformers import CLIPProcessor, CLIPModel\n",
    "import numpy as np"
   ]
  },
  {
   "cell_type": "code",
   "execution_count": 2,
   "id": "8c3e6849-cf09-47aa-942a-55c400e00f73",
   "metadata": {},
   "outputs": [],
   "source": [
    "# 更改huggingface的缓存默认目录\n",
    "import os\n",
    "os.environ['HF_HOME'] = '/root/autodl-tmp/cache/'\n",
    "os.environ['TRANSFORMERS_OFFLINE'] = '0' "
   ]
  },
  {
   "cell_type": "code",
   "execution_count": 3,
   "id": "51a74282-12bb-4b9d-ae29-3b59c1116f9b",
   "metadata": {},
   "outputs": [
    {
     "name": "stdout",
     "output_type": "stream",
     "text": [
      "/root/autodl-tmp/cache/\n"
     ]
    }
   ],
   "source": [
    "print(os.environ['HF_HOME'])"
   ]
  },
  {
   "cell_type": "code",
   "execution_count": 4,
   "id": "47cfbfe0-8c88-4c5e-84ca-a8dabc39d4f8",
   "metadata": {},
   "outputs": [],
   "source": [
    "# 学术加速\n",
    "import subprocess\n",
    "import os\n",
    "\n",
    "result = subprocess.run('bash -c \"source /etc/network_turbo && env | grep proxy\"', shell=True, capture_output=True, text=True)\n",
    "output = result.stdout\n",
    "for line in output.splitlines():\n",
    "    if '=' in line:\n",
    "        var, value = line.split('=', 1)\n",
    "        os.environ[var] = value"
   ]
  },
  {
   "cell_type": "code",
   "execution_count": 5,
   "id": "29f946aa-f3c7-4899-9190-b298e6eaf9da",
   "metadata": {},
   "outputs": [
    {
     "name": "stderr",
     "output_type": "stream",
     "text": [
      "/root/miniconda3/envs/llava/lib/python3.10/site-packages/huggingface_hub/file_download.py:795: FutureWarning: `resume_download` is deprecated and will be removed in version 1.0.0. Downloads always resume when possible. If you want to force a new download, use `force_download=True`.\n",
      "  warnings.warn(\n",
      "/root/miniconda3/envs/llava/lib/python3.10/site-packages/torch/_utils.py:831: UserWarning: TypedStorage is deprecated. It will be removed in the future and UntypedStorage will be the only storage class. This should only matter to you if you are using storages directly.  To access UntypedStorage directly, use tensor.untyped_storage() instead of tensor.storage()\n",
      "  return self.fget.__get__(instance, owner)()\n"
     ]
    }
   ],
   "source": [
    "text_tokenizer = BertTokenizer.from_pretrained(\"IDEA-CCNL/Taiyi-CLIP-Roberta-large-326M-Chinese\")\n",
    "text_encoder = BertForSequenceClassification.from_pretrained(\"IDEA-CCNL/Taiyi-CLIP-Roberta-large-326M-Chinese\").eval()"
   ]
  },
  {
   "cell_type": "code",
   "execution_count": 6,
   "id": "7c7d114d-a935-4ae1-b337-62d4a1344b7c",
   "metadata": {},
   "outputs": [],
   "source": [
    "target_classes = [\"T恤\", \"不是T恤\"]"
   ]
  },
  {
   "cell_type": "code",
   "execution_count": 7,
   "id": "537d16cc-fb81-4ddf-9d5a-9d12352048b8",
   "metadata": {},
   "outputs": [],
   "source": [
    "text_inputs = text_tokenizer([\"T恤\"], return_tensors='pt', padding=True)['input_ids']"
   ]
  },
  {
   "cell_type": "code",
   "execution_count": 8,
   "id": "6df98ec3-78fb-4767-86ed-bfe7a694bf70",
   "metadata": {},
   "outputs": [],
   "source": [
    "\"\"\"参考DatasetFolder类源码：\n",
    "https://pytorch.org/vision/stable/generated/torchvision.datasets.DatasetFolder.html#torchvision.datasets.DatasetFolder\"\"\"\n",
    "from torchvision.datasets import VisionDataset\n",
    "from PIL import Image\n",
    "from typing import List, Tuple, Dict, Union, Optional, Callable, Any, cast\n",
    "from pathlib import Path\n",
    "\n",
    "IMG_EXTENSIONS = (\".jpg\", \".jpeg\", \".png\", \".ppm\", \".bmp\", \".pgm\", \".tif\", \".tiff\", \".webp\")\n",
    "\n",
    "def pil_loader(path: str) -> Image.Image:\n",
    "    # open path as file to avoid ResourceWarning (https://github.com/python-pillow/Pillow/issues/835)\n",
    "    with open(path, \"rb\") as f:\n",
    "        img = Image.open(f)\n",
    "        return img.convert(\"RGB\")\n",
    "\n",
    "def default_loader(path: str) -> Any:\n",
    "    from torchvision import get_image_backend\n",
    "\n",
    "    if get_image_backend() == \"accimage\":\n",
    "        return accimage_loader(path)\n",
    "    else:\n",
    "        return pil_loader(path)\n",
    "\n",
    "def has_file_allowed_extension(filename: str, extensions: Union[str, Tuple[str, ...]]) -> bool:\n",
    "    \"\"\"Checks if a file is an allowed extension.\n",
    "\n",
    "    Args:\n",
    "        filename (string): path to a file\n",
    "        extensions (tuple of strings): extensions to consider (lowercase)\n",
    "\n",
    "    Returns:\n",
    "        bool: True if the filename ends with one of given extensions\n",
    "    \"\"\"\n",
    "    return filename.lower().endswith(extensions if isinstance(extensions, str) else tuple(extensions))\n",
    "\n",
    "class CustomDataset(VisionDataset):\n",
    "    def __init__(\n",
    "        self,\n",
    "        root: Union[str, Path],\n",
    "        loader: Callable[[str], Any] = default_loader,\n",
    "        extensions: Optional[Tuple[str, ...]] = None,\n",
    "        transform: Optional[Callable] = None,\n",
    "        target_transform: Optional[Callable] = None,\n",
    "        is_valid_file: Optional[Callable[[str], bool]] = None,\n",
    "        allow_empty: bool = False,\n",
    "        # 目标类别\n",
    "        target_classes: List[str] = None,\n",
    "        **kwargs\n",
    "    ):\n",
    "        super().__init__(root, transform=transform, target_transform=target_transform)\n",
    "        original_classes, original_class_to_idx = self.find_classes(self.root)\n",
    "        target_class_to_idx = {cls_name: i for i, cls_name in enumerate(target_classes)}\n",
    "        map_class = {}\n",
    "        # 5个正类加上其他\n",
    "        if len(target_classes) == 6:\n",
    "            for target_class in target_classes:\n",
    "                if target_class == \"其他\" or target_class == \"others\":\n",
    "                    map_class[target_class] = [\"tennis-racket\", \"cherry\", \"mantou\", \"dress-shirt\", \"violin\"]\n",
    "                elif target_class in [\"badminton-racket\", \"羽毛球拍\"]:\n",
    "                    map_class[target_class] = [\"badminton-racket\"]\n",
    "                elif target_class in [\"lychee\", \"荔枝\"]:\n",
    "                    map_class[target_class] = [\"lychee\"]\n",
    "                elif target_class in [\"baozi\", \"包子\"]:\n",
    "                    map_class[target_class] = [\"baozi\"]\n",
    "                elif target_class in [\"T-shirt\", \"T恤\"]:\n",
    "                    map_class[target_class] = [\"T-shirt\"]\n",
    "                elif target_class in [\"guitar\", \"吉他\"]:\n",
    "                    map_class[target_class] = [\"guitar\"]\n",
    "                else:\n",
    "                    raise ValueError(f\"Found no valid class {target_class}.\")\n",
    "        # 1个正类加上其他\n",
    "        elif len(target_classes) == 2:\n",
    "            for target_class in target_classes:\n",
    "                if target_class in [\"badminton-racket\", \"羽毛球拍\"]:\n",
    "                    map_class[target_class] = [\"badminton-racket\"]\n",
    "                    if target_class == \"badminton-racket\":\n",
    "                        map_class[\"not badminton-racket\"] = [cls_name for idx, cls_name in enumerate(original_classes) if idx != original_class_to_idx[\"badminton-racket\"]]\n",
    "                    else:\n",
    "                        map_class[\"不是羽毛球拍\"] = [cls_name for idx, cls_name in enumerate(original_classes) if idx != original_class_to_idx[\"badminton-racket\"]]\n",
    "                elif target_class in [\"lychee\", \"荔枝\"]:\n",
    "                    map_class[target_class] = [\"lychee\"]\n",
    "                    if target_class == \"lychee\":\n",
    "                        map_class[\"not lychee\"] = [cls_name for idx, cls_name in enumerate(original_classes) if idx != original_class_to_idx[\"lychee\"]]\n",
    "                    else:\n",
    "                        map_class[\"不是荔枝\"] = [cls_name for idx, cls_name in enumerate(original_classes) if idx != original_class_to_idx[\"lychee\"]]\n",
    "                elif target_class in [\"baozi\", \"包子\"]:\n",
    "                    map_class[target_class] = [\"baozi\"]\n",
    "                    if target_class == \"baozi\":\n",
    "                        map_class[\"not baozi\"] = [cls_name for idx, cls_name in enumerate(original_classes) if idx != original_class_to_idx[\"baozi\"]]\n",
    "                    else:\n",
    "                        map_class[\"不是包子\"] = [cls_name for idx, cls_name in enumerate(original_classes) if idx != original_class_to_idx[\"baozi\"]]\n",
    "                elif target_class in [\"T-shirt\", \"T恤\"]:\n",
    "                    map_class[target_class] = [\"T-shirt\"]\n",
    "                    if target_class == \"T-shirt\":\n",
    "                        map_class[\"not T-shirt\"] = [cls_name for idx, cls_name in enumerate(original_classes) if idx != original_class_to_idx[\"T-shirt\"]]\n",
    "                    else:\n",
    "                        map_class[\"不是T恤\"] = [cls_name for idx, cls_name in enumerate(original_classes) if idx != original_class_to_idx[\"T-shirt\"]]\n",
    "                elif target_class in [\"guitar\", \"吉他\"]:\n",
    "                    map_class[target_class] = [\"guitar\"]\n",
    "                    if target_class == \"guitar\":\n",
    "                        map_class[\"not guitar\"] = [cls_name for idx, cls_name in enumerate(original_classes) if idx != original_class_to_idx[\"guitar\"]]\n",
    "                    else:\n",
    "                        map_class[\"不是吉他\"] = [cls_name for idx, cls_name in enumerate(original_classes) if idx != original_class_to_idx[\"guitar\"]]\n",
    "        else:\n",
    "            raise ValueError(\"Not match!\")\n",
    "            \n",
    "        samples = self.make_dataset(\n",
    "            self.root,\n",
    "            target_class_to_idx,\n",
    "            map_class,\n",
    "            extensions=IMG_EXTENSIONS,\n",
    "            is_valid_file=is_valid_file,\n",
    "            allow_empty=allow_empty,\n",
    "        )\n",
    "        \n",
    "        self.loader = loader\n",
    "        self.extensions = extensions\n",
    "\n",
    "        self.classes = target_classes\n",
    "        self.class_to_idx = target_class_to_idx\n",
    "        self.samples = samples\n",
    "        self.targets = [s[1] for s in samples]\n",
    "        \n",
    "    @staticmethod    \n",
    "    def make_dataset(\n",
    "        directory: Union[str, Path],\n",
    "        class_to_idx: Dict[str, int],\n",
    "        map_class: Optional[Dict[str, str]] = None,\n",
    "        extensions: Optional[Tuple[str, ...]] = None,\n",
    "        is_valid_file: Optional[Callable[[str], bool]] = None,\n",
    "        allow_empty: bool = False,\n",
    "    ) -> List[Tuple[str, int]]:\n",
    "        \"\"\"\n",
    "        重写 make_dataset，处理合并后的标签逻辑\n",
    "        \"\"\"\n",
    "        directory = os.path.expanduser(directory)\n",
    "\n",
    "        if class_to_idx is None:\n",
    "            _, class_to_idx = find_classes(directory)\n",
    "        elif not class_to_idx:\n",
    "            raise ValueError(\"'class_to_index' must have at least one entry to collect any samples.\")\n",
    "\n",
    "        both_none = extensions is None and is_valid_file is None\n",
    "        both_something = extensions is not None and is_valid_file is not None\n",
    "        if both_none or both_something:\n",
    "            raise ValueError(\"Both extensions and is_valid_file cannot be None or not None at the same time\")\n",
    "\n",
    "        if extensions is not None:\n",
    "\n",
    "            def is_valid_file(x: str) -> bool:\n",
    "                return has_file_allowed_extension(x, extensions)  # type: ignore[arg-type]\n",
    "\n",
    "        is_valid_file = cast(Callable[[str], bool], is_valid_file)\n",
    "\n",
    "        instances = []\n",
    "        available_classes = set()\n",
    "        for target_class in sorted(class_to_idx.keys()):\n",
    "            class_index = class_to_idx[target_class]\n",
    "            for path_name in map_class[target_class]:\n",
    "                target_dir = os.path.join(directory, path_name)\n",
    "                if not os.path.isdir(target_dir):\n",
    "                    continue\n",
    "                for root, _, fnames in sorted(os.walk(target_dir, followlinks=True)):\n",
    "                    for fname in sorted(fnames):\n",
    "                        path = os.path.join(root, fname)\n",
    "                        if is_valid_file(path):\n",
    "                            item = path, class_index\n",
    "                            instances.append(item)\n",
    "\n",
    "                            if target_class not in available_classes:\n",
    "                                available_classes.add(target_class)\n",
    "        empty_classes = set(class_to_idx.keys()) - available_classes\n",
    "        if empty_classes and not allow_empty:\n",
    "            msg = f\"Found no valid file for the classes {', '.join(sorted(empty_classes))}. \"\n",
    "            if extensions is not None:\n",
    "                msg += f\"Supported extensions are: {extensions if isinstance(extensions, str) else ', '.join(extensions)}\"\n",
    "            raise FileNotFoundError(msg)\n",
    "\n",
    "        return instances\n",
    "        \n",
    "    def find_classes(self, directory: Union[str, Path]) -> List[str]:\n",
    "        \"\"\"Find the class folders in a dataset structured as follows::\n",
    "\n",
    "            directory/\n",
    "            ├── class_x\n",
    "            │   ├── xxx.ext\n",
    "            │   ├── xxy.ext\n",
    "            │   └── ...\n",
    "            │       └── xxz.ext\n",
    "            └── class_y\n",
    "                ├── 123.ext\n",
    "                ├── nsdf3.ext\n",
    "                └── ...\n",
    "                └── asd932_.ext\n",
    "\n",
    "        This method can be overridden to only consider\n",
    "        a subset of classes, or to adapt to a different dataset directory structure.\n",
    "\n",
    "        Args:\n",
    "            directory(str): Root directory path, corresponding to ``self.root``\n",
    "\n",
    "        Raises:\n",
    "            FileNotFoundError: If ``dir`` has no class folders.\n",
    "\n",
    "        Returns:\n",
    "            (Tuple[List[str], Dict[str, int]]): List of all classes and dictionary mapping each class to an index.\n",
    "        \"\"\"\n",
    "        classes = sorted(entry.name for entry in os.scandir(directory) if entry.is_dir())\n",
    "        if not classes:\n",
    "            raise FileNotFoundError(f\"Couldn't find any class folder in {directory}.\")\n",
    "            \n",
    "        class_to_idx = {cls_name: i for i, cls_name in enumerate(classes)}\n",
    "        return classes, class_to_idx\n",
    "    \n",
    "    def __getitem__(self, index: int) -> Tuple[Any, Any]:\n",
    "        \"\"\"\n",
    "        Args:\n",
    "            index (int): Index\n",
    "\n",
    "        Returns:\n",
    "            tuple: (sample, target) where target is class_index of the target class.\n",
    "        \"\"\"\n",
    "        path, target = self.samples[index]\n",
    "        sample = self.loader(path)\n",
    "        if self.transform is not None:\n",
    "            sample = self.transform(sample)\n",
    "        if self.target_transform is not None:\n",
    "            target = self.target_transform(target)\n",
    "\n",
    "        return sample, target\n",
    "\n",
    "    def __len__(self) -> int:\n",
    "        return len(self.samples)\n"
   ]
  },
  {
   "cell_type": "code",
   "execution_count": 9,
   "id": "d5d1cc24-8121-419d-b279-2df88ca09975",
   "metadata": {},
   "outputs": [],
   "source": [
    "processor = CLIPProcessor.from_pretrained(\"openai/clip-vit-large-patch14\")"
   ]
  },
  {
   "cell_type": "code",
   "execution_count": 10,
   "id": "a764eec5-bb6d-4747-9719-c82084c1936a",
   "metadata": {},
   "outputs": [
    {
     "name": "stdout",
     "output_type": "stream",
     "text": [
      "['T恤', '不是T恤']\n",
      "{'T恤': 0, '不是T恤': 1}\n"
     ]
    }
   ],
   "source": [
    "dataset = CustomDataset(\n",
    "    root=\"/root/autodl-tmp/Image-Downloader/images/\",\n",
    "    transform=processor.image_processor,\n",
    "    target_classes=target_classes,\n",
    ")\n",
    "\n",
    "# 输出类别映射\n",
    "print(dataset.classes)  \n",
    "print(dataset.class_to_idx)  "
   ]
  },
  {
   "cell_type": "code",
   "execution_count": 11,
   "id": "5a9e80b5-3804-471e-8512-154610b96499",
   "metadata": {},
   "outputs": [],
   "source": [
    "clip_model = CLIPModel.from_pretrained(\"openai/clip-vit-large-patch14\") "
   ]
  },
  {
   "cell_type": "code",
   "execution_count": 12,
   "id": "311fbf22-6abe-4824-a2e3-7885a9cfa400",
   "metadata": {},
   "outputs": [],
   "source": [
    "clip_model = clip_model.to(\"cuda\")\n",
    "text_inputs = text_inputs.to(\"cuda\")\n",
    "text_encoder = text_encoder.to(\"cuda\")"
   ]
  },
  {
   "cell_type": "code",
   "execution_count": 13,
   "id": "242e2bc6-f689-4b2f-b1ee-5483c8d48962",
   "metadata": {},
   "outputs": [],
   "source": [
    "def eval_threshold(pos_res, neg_res, threshold):\n",
    "    pos_res = np.array(pos_res)\n",
    "    neg_res = np.array(neg_res)\n",
    "    # 计算tp,fp,fn 这里注意后面的分母是不是会出现nan或者0\n",
    "    tp = sum(pos_res >= threshold)\n",
    "    fp = sum(neg_res >= threshold)\n",
    "    fn = sum(pos_res < threshold)\n",
    "\n",
    "    # precision = TP / TP + FP\n",
    "    precision = tp / (tp + fp)\n",
    "\n",
    "    # recall = TP / TP + FN\n",
    "    recall = tp / (tp + fn)\n",
    "\n",
    "    # f1-score = 2 * precision * recall / (precision + recall )\n",
    "    f1_score = 2 * precision * recall / (precision + recall)\n",
    "\n",
    "    return f1_score, precision, recall"
   ]
  },
  {
   "cell_type": "code",
   "execution_count": 14,
   "id": "001bdb4e-41c1-479e-9dc4-c12cd1ad147c",
   "metadata": {},
   "outputs": [],
   "source": [
    "def find_thresholds(pos_res, neg_res, target_classes):\n",
    "    thresholds = np.linspace(min(min(pos_res), min(neg_res)), max(max(pos_res), max(neg_res)), 200)\n",
    "\n",
    "    best_threshold = 0.\n",
    "    best_f1_score = 0.\n",
    "    best_precision = 0.\n",
    "    best_recall = 0.\n",
    "    f1_scores = []\n",
    "\n",
    "    for threshold in thresholds:\n",
    "        f1_score, precision, recall = eval_threshold(pos_res, neg_res, threshold)\n",
    "        f1_scores.append(f1_score)\n",
    "\n",
    "        # 判断最佳f1\n",
    "        if f1_score > best_f1_score:\n",
    "            # 更新指标\n",
    "            best_threshold = threshold\n",
    "            best_f1_score = f1_score\n",
    "            best_precision = precision\n",
    "            best_recall = recall\n",
    "\n",
    "    print(f\"{target_classes[0]}_best_threshold\", best_threshold)\n",
    "    print(f\"{target_classes[0]}_best_f1_score\", best_f1_score)\n",
    "    print(f\"{target_classes[0]}_best_precision\", best_precision)\n",
    "    print(f\"{target_classes[0]}_best_recall\", best_recall)\n",
    "\n",
    "    import matplotlib.pyplot as plt\n",
    "    # print(thresholds)\n",
    "    # print(f1_scores)\n",
    "    # 绘制曲线\n",
    "    plt.figure(figsize=(9, 9))\n",
    "    plt.plot(thresholds, f1_scores)\n",
    "    # 绘制最佳点\n",
    "    plt.scatter(x=best_threshold, y=best_f1_score)\n",
    "    plt.annotate(f\"threshold:{best_threshold:.5f}/f1:{best_f1_score:.5f}\", xy=(best_threshold, best_f1_score))\n",
    "    # 添加文字信息\n",
    "    plt.xlabel('threshold')\n",
    "    plt.ylabel('f1_score')\n",
    "    plt.title(f'{target_classes[0]}_precision:{best_precision:.4f}_recall:{best_recall:.4f}')\n",
    "    plt.savefig(f'result_{target_classes[0]}_all.jpg')\n",
    "\n",
    "    print('done')"
   ]
  },
  {
   "cell_type": "code",
   "execution_count": 15,
   "id": "a807a31a-37e3-4e67-966d-0162e92d0896",
   "metadata": {},
   "outputs": [],
   "source": [
    "def get_similarity(test_loader, text_inputs, threshold, device=\"cuda\"):\n",
    "    pos_res = []\n",
    "    neg_res = []\n",
    "    with torch.no_grad():\n",
    "        for images, labels in test_loader:\n",
    "            images = images['pixel_values'][0].to(device)\n",
    "\n",
    "            # 计算图像特征\n",
    "            image_features = clip_model.get_image_features(pixel_values=images)\n",
    "            # 计算文本特征\n",
    "            text_features = text_encoder(text_inputs).logits\n",
    "            # 归一化\n",
    "            image_features = image_features / image_features.norm(dim=1, keepdim=True)\n",
    "            text_features = text_features / text_features.norm(dim=1, keepdim=True)\n",
    "            # 计算余弦相似度 logit_scale是尺度系数\n",
    "            logit_scale = clip_model.logit_scale.exp()\n",
    "            similarity = logit_scale * torch.nn.functional.cosine_similarity(image_features, text_features)\n",
    "            pos_mask = (labels == 0)  # 正类掩码（标签为0）\n",
    "            neg_mask = (labels == 1)  # 负类掩码（标签为1）\n",
    "\n",
    "            pos_res.extend(similarity.cpu().numpy()[pos_mask])\n",
    "            neg_res.extend(similarity.cpu().numpy()[neg_mask])\n",
    "    return pos_res, neg_res\n",
    "            "
   ]
  },
  {
   "cell_type": "code",
   "execution_count": 16,
   "id": "92799734-8a9a-42c4-af70-293cf394e1cf",
   "metadata": {},
   "outputs": [],
   "source": [
    "from torch.utils.data import DataLoader\n",
    "# 创建DataLoader（按需调整batch_size和num_workers）\n",
    "test_loader = DataLoader(dataset, batch_size=32, shuffle=False, num_workers=4)"
   ]
  },
  {
   "cell_type": "code",
   "execution_count": 41,
   "id": "4fb86df5-75ff-46c3-af8c-5e5a4fc74d25",
   "metadata": {},
   "outputs": [
    {
     "name": "stderr",
     "output_type": "stream",
     "text": [
      "/root/miniconda3/envs/llava/lib/python3.10/site-packages/PIL/TiffImagePlugin.py:900: UserWarning: Corrupt EXIF data.  Expecting to read 4 bytes but only got 0. \n",
      "  warnings.warn(str(msg))\n",
      "/root/miniconda3/envs/llava/lib/python3.10/site-packages/PIL/Image.py:1056: UserWarning: Palette images with Transparency expressed in bytes should be converted to RGBA images\n",
      "  warnings.warn(\n",
      "/root/miniconda3/envs/llava/lib/python3.10/site-packages/PIL/Image.py:1056: UserWarning: Palette images with Transparency expressed in bytes should be converted to RGBA images\n",
      "  warnings.warn(\n",
      "/root/miniconda3/envs/llava/lib/python3.10/site-packages/PIL/Image.py:1056: UserWarning: Palette images with Transparency expressed in bytes should be converted to RGBA images\n",
      "  warnings.warn(\n",
      "/root/miniconda3/envs/llava/lib/python3.10/site-packages/PIL/Image.py:1056: UserWarning: Palette images with Transparency expressed in bytes should be converted to RGBA images\n",
      "  warnings.warn(\n"
     ]
    }
   ],
   "source": [
    "pos_res, neg_res = get_similarity(test_loader, text_inputs, threshold=0.09)"
   ]
  },
  {
   "cell_type": "code",
   "execution_count": 42,
   "id": "48409d60-990c-4cad-8b06-88e404d5f986",
   "metadata": {},
   "outputs": [
    {
     "name": "stdout",
     "output_type": "stream",
     "text": [
      "荔枝_best_threshold 10.377091302344546\n",
      "荔枝_best_f1_score 1.0\n",
      "荔枝_best_precision 1.0\n",
      "荔枝_best_recall 1.0\n",
      "done\n"
     ]
    },
    {
     "name": "stderr",
     "output_type": "stream",
     "text": [
      "/tmp/ipykernel_19335/2260241958.py:40: UserWarning: Glyph 33620 (\\N{CJK UNIFIED IDEOGRAPH-8354}) missing from font(s) DejaVu Sans.\n",
      "  plt.savefig(f'result_{target_classes[0]}_all.jpg')\n",
      "/tmp/ipykernel_19335/2260241958.py:40: UserWarning: Glyph 26525 (\\N{CJK UNIFIED IDEOGRAPH-679D}) missing from font(s) DejaVu Sans.\n",
      "  plt.savefig(f'result_{target_classes[0]}_all.jpg')\n",
      "/root/miniconda3/envs/llava/lib/python3.10/site-packages/IPython/core/pylabtools.py:170: UserWarning: Glyph 33620 (\\N{CJK UNIFIED IDEOGRAPH-8354}) missing from font(s) DejaVu Sans.\n",
      "  fig.canvas.print_figure(bytes_io, **kw)\n",
      "/root/miniconda3/envs/llava/lib/python3.10/site-packages/IPython/core/pylabtools.py:170: UserWarning: Glyph 26525 (\\N{CJK UNIFIED IDEOGRAPH-679D}) missing from font(s) DejaVu Sans.\n",
      "  fig.canvas.print_figure(bytes_io, **kw)\n"
     ]
    },
    {
     "data": {
      "image/png": "[encoded data removed]",
      "text/plain": [
       "<Figure size 900x900 with 1 Axes>"
      ]
     },
     "metadata": {},
     "output_type": "display_data"
    }
   ],
   "source": [
    "find_thresholds(pos_res, neg_res, target_classes)"
   ]
  },
  {
   "cell_type": "code",
   "execution_count": null,
   "id": "79af23f3-e14a-40d3-8c91-324aa2bfedbc",
   "metadata": {},
   "outputs": [],
   "source": [
    "from sklearn.metrics import classification_report, precision_score, recall_score, f1_score\n",
    "classification_report(all_labels, all_preds, target_names=target_classes)"
   ]
  },
  {
   "cell_type": "code",
   "execution_count": 19,
   "id": "9f60493c-5f16-4161-94de-140db29aaf51",
   "metadata": {},
   "outputs": [],
   "source": [
    "text_inputs = text_tokenizer([\"吉他\"], return_tensors='pt', padding=True)['input_ids'].to(\"cuda\")"
   ]
  },
  {
   "cell_type": "code",
   "execution_count": 20,
   "id": "cd2c36e4-fa74-4d64-935d-d32f695ba751",
   "metadata": {},
   "outputs": [],
   "source": [
    "target_classes = [\"吉他\", \"不是吉他\"]"
   ]
  },
  {
   "cell_type": "code",
   "execution_count": 21,
   "id": "bf8e805b-c1c3-47cb-83d4-2f741a574d81",
   "metadata": {},
   "outputs": [
    {
     "name": "stdout",
     "output_type": "stream",
     "text": [
      "['吉他', '不是吉他']\n",
      "{'吉他': 0, '不是吉他': 1}\n"
     ]
    }
   ],
   "source": [
    "dataset = CustomDataset(\n",
    "    root=\"/root/autodl-tmp/Image-Downloader/images/\",\n",
    "    transform=processor.image_processor,\n",
    "    target_classes=target_classes,\n",
    ")\n",
    "\n",
    "# 输出类别映射\n",
    "print(dataset.classes)  \n",
    "print(dataset.class_to_idx)  "
   ]
  },
  {
   "cell_type": "code",
   "execution_count": 22,
   "id": "c51db9f1-c303-47a1-9e2b-629dfffa2530",
   "metadata": {},
   "outputs": [],
   "source": [
    "from torch.utils.data import DataLoader\n",
    "# 创建DataLoader（按需调整batch_size和num_workers）\n",
    "test_loader = DataLoader(dataset, batch_size=32, shuffle=False, num_workers=4)"
   ]
  },
  {
   "cell_type": "code",
   "execution_count": null,
   "id": "a466e44c-b406-414a-a463-a1f3693a6116",
   "metadata": {},
   "outputs": [],
   "source": [
    "all_preds, all_labels = zeroshot_classifier_threshold(test_loader, text_inputs, threshold=0.11)"
   ]
  },
  {
   "cell_type": "code",
   "execution_count": null,
   "id": "acf4fc13-fe81-4662-9645-7d172afbc30a",
   "metadata": {},
   "outputs": [],
   "source": [
    "from sklearn.metrics import classification_report, precision_score, recall_score, f1_score\n",
    "classification_report(all_labels, all_preds, target_names=target_classes)"
   ]
  },
  {
   "cell_type": "code",
   "execution_count": 25,
   "id": "16ea89ac-2a0c-4e50-9231-722f217c0c08",
   "metadata": {},
   "outputs": [],
   "source": [
    "text_inputs = text_tokenizer([\"羽毛球拍\"], return_tensors='pt', padding=True)['input_ids'].to(\"cuda\")"
   ]
  },
  {
   "cell_type": "code",
   "execution_count": 26,
   "id": "3abab613-fd4a-4982-87bc-8b3951dff250",
   "metadata": {},
   "outputs": [],
   "source": [
    "target_classes = [\"羽毛球拍\", \"不是羽毛球拍\"]"
   ]
  },
  {
   "cell_type": "code",
   "execution_count": 27,
   "id": "c3fcddab-082c-4f49-bbb8-a96258e90c2c",
   "metadata": {},
   "outputs": [
    {
     "name": "stdout",
     "output_type": "stream",
     "text": [
      "['羽毛球拍', '不是羽毛球拍']\n",
      "{'羽毛球拍': 0, '不是羽毛球拍': 1}\n"
     ]
    }
   ],
   "source": [
    "dataset = CustomDataset(\n",
    "    root=\"/root/autodl-tmp/Image-Downloader/images/\",\n",
    "    transform=processor.image_processor,\n",
    "    target_classes=target_classes,\n",
    ")\n",
    "\n",
    "# 输出类别映射\n",
    "print(dataset.classes)  \n",
    "print(dataset.class_to_idx)  "
   ]
  },
  {
   "cell_type": "code",
   "execution_count": 28,
   "id": "199896c6-b15d-43f2-a7b2-695f09c6aa96",
   "metadata": {},
   "outputs": [],
   "source": [
    "from torch.utils.data import DataLoader\n",
    "# 创建DataLoader（按需调整batch_size和num_workers）\n",
    "test_loader = DataLoader(dataset, batch_size=32, shuffle=False, num_workers=4)"
   ]
  },
  {
   "cell_type": "code",
   "execution_count": null,
   "id": "3ae0dee0-358e-44fb-90a5-6f094a0d3154",
   "metadata": {},
   "outputs": [],
   "source": [
    "all_preds, all_labels = zeroshot_classifier_threshold(test_loader, text_inputs, threshold=0.16)"
   ]
  },
  {
   "cell_type": "code",
   "execution_count": null,
   "id": "70509a74-e9f0-46d5-9948-2c6e75f40925",
   "metadata": {},
   "outputs": [],
   "source": [
    "from sklearn.metrics import classification_report, precision_score, recall_score, f1_score\n",
    "classification_report(all_labels, all_preds, target_names=target_classes)"
   ]
  },
  {
   "cell_type": "code",
   "execution_count": 31,
   "id": "e129158b-0edb-455b-9888-be6c060a67d5",
   "metadata": {},
   "outputs": [],
   "source": [
    "text_inputs = text_tokenizer([\"包子\"], return_tensors='pt', padding=True)['input_ids'].to(\"cuda\")"
   ]
  },
  {
   "cell_type": "code",
   "execution_count": 32,
   "id": "d4964768-ca45-4640-b361-2dd2a0d3de8a",
   "metadata": {},
   "outputs": [],
   "source": [
    "target_classes = [\"包子\", \"不是包子\"]"
   ]
  },
  {
   "cell_type": "code",
   "execution_count": 33,
   "id": "d858ff27-d0fc-4b50-9384-05d63dff4e25",
   "metadata": {},
   "outputs": [
    {
     "name": "stdout",
     "output_type": "stream",
     "text": [
      "['包子', '不是包子']\n",
      "{'包子': 0, '不是包子': 1}\n"
     ]
    }
   ],
   "source": [
    "dataset = CustomDataset(\n",
    "    root=\"/root/autodl-tmp/Image-Downloader/images/\",\n",
    "    transform=processor.image_processor,\n",
    "    target_classes=target_classes,\n",
    ")\n",
    "\n",
    "# 输出类别映射\n",
    "print(dataset.classes)  \n",
    "print(dataset.class_to_idx) "
   ]
  },
  {
   "cell_type": "code",
   "execution_count": 34,
   "id": "2e3817fb-f7f3-4e4d-b98a-d10e93b7aa61",
   "metadata": {},
   "outputs": [],
   "source": [
    "from torch.utils.data import DataLoader\n",
    "# 创建DataLoader（按需调整batch_size和num_workers）\n",
    "test_loader = DataLoader(dataset, batch_size=32, shuffle=False, num_workers=4)"
   ]
  },
  {
   "cell_type": "code",
   "execution_count": null,
   "id": "07966785-9241-43fe-982f-755a5dbbf6a7",
   "metadata": {},
   "outputs": [],
   "source": [
    "all_preds, all_labels = zeroshot_classifier_threshold(test_loader, text_inputs, threshold=0.14)"
   ]
  },
  {
   "cell_type": "code",
   "execution_count": null,
   "id": "06495c4f-0c4a-499c-a2f8-62fe24ae3f74",
   "metadata": {},
   "outputs": [],
   "source": [
    "from sklearn.metrics import classification_report, precision_score, recall_score, f1_score\n",
    "classification_report(all_labels, all_preds, target_names=target_classes)"
   ]
  },
  {
   "cell_type": "code",
   "execution_count": 37,
   "id": "2a6cbcd3-4fd7-4735-8700-1675db25d619",
   "metadata": {},
   "outputs": [],
   "source": [
    "text_inputs = text_tokenizer([\"荔枝\"], return_tensors='pt', padding=True)['input_ids'].to(\"cuda\")"
   ]
  },
  {
   "cell_type": "code",
   "execution_count": 38,
   "id": "466cf571-b9ab-4b78-86da-bb4fc26cf969",
   "metadata": {},
   "outputs": [],
   "source": [
    "target_classes = [\"荔枝\", \"不是荔枝\"]"
   ]
  },
  {
   "cell_type": "code",
   "execution_count": 39,
   "id": "3c0112a5-9b70-4eef-8ec7-0e192e437f56",
   "metadata": {},
   "outputs": [
    {
     "name": "stdout",
     "output_type": "stream",
     "text": [
      "['荔枝', '不是荔枝']\n",
      "{'荔枝': 0, '不是荔枝': 1}\n"
     ]
    }
   ],
   "source": [
    "dataset = CustomDataset(\n",
    "    root=\"/root/autodl-tmp/Image-Downloader/images/\",\n",
    "    transform=processor.image_processor,\n",
    "    target_classes=target_classes,\n",
    ")\n",
    "\n",
    "# 输出类别映射\n",
    "print(dataset.classes)  \n",
    "print(dataset.class_to_idx) "
   ]
  },
  {
   "cell_type": "code",
   "execution_count": 40,
   "id": "9ea2ca5c-36b9-462a-8f68-464f63f5bd00",
   "metadata": {},
   "outputs": [],
   "source": [
    "from torch.utils.data import DataLoader\n",
    "# 创建DataLoader（按需调整batch_size和num_workers）\n",
    "test_loader = DataLoader(dataset, batch_size=32, shuffle=False, num_workers=4)"
   ]
  },
  {
   "cell_type": "code",
   "execution_count": null,
   "id": "5770bb4c-9583-459d-adb9-98a48c6dbd10",
   "metadata": {},
   "outputs": [],
   "source": [
    "all_preds, all_labels = zeroshot_classifier_threshold(test_loader, text_inputs, threshold=0.1)"
   ]
  },
  {
   "cell_type": "code",
   "execution_count": null,
   "id": "afd075c9-6032-48be-aa1a-e2cdcdba1e71",
   "metadata": {},
   "outputs": [],
   "source": [
    "from sklearn.metrics import classification_report, precision_score, recall_score, f1_score\n",
    "classification_report(all_labels, all_preds, target_names=target_classes)"
   ]
  },
  {
   "cell_type": "code",
   "execution_count": null,
   "id": "1d50cdaa-4be1-49f2-bf2f-f11678288cf6",
   "metadata": {},
   "outputs": [],
   "source": []
  }
 ],
 "metadata": {
  "kernelspec": {
   "display_name": "tip",
   "language": "python",
   "name": "tip"
  },
  "language_info": {
   "codemirror_mode": {
    "name": "ipython",
    "version": 3
   },
   "file_extension": ".py",
   "mimetype": "text/x-python",
   "name": "python",
   "nbconvert_exporter": "python",
   "pygments_lexer": "ipython3",
   "version": "3.7.16"
  }
 },
 "nbformat": 4,
 "nbformat_minor": 5
}
