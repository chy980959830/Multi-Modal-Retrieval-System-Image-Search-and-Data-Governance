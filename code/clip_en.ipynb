{
 "cells": [
  {
   "cell_type": "markdown",
   "metadata": {},
   "source": [
    "# 测试不同的判别方法"
   ]
  },
  {
   "cell_type": "code",
   "execution_count": null,
   "metadata": {},
   "outputs": [],
   "source": [
    "!pip install scikit-learn"
   ]
  },
  {
   "cell_type": "code",
   "execution_count": 104,
   "metadata": {},
   "outputs": [],
   "source": [
    "import torch\n",
    "from torch.utils.data import DataLoader\n",
    "import clip\n",
    "from tqdm.notebook import tqdm\n",
    "from sklearn.metrics import classification_report, precision_score, recall_score, f1_score\n",
    "import numpy as np\n",
    "from torchvision.datasets import ImageFolder\n",
    "from typing import List, Tuple, Dict, Union, Optional, Callable, Any, cast\n",
    "from pathlib import Path\n",
    "import os"
   ]
  },
  {
   "cell_type": "markdown",
   "metadata": {},
   "source": [
    "## 验证英文CLIP模型的效果"
   ]
  },
  {
   "cell_type": "code",
   "execution_count": 105,
   "metadata": {},
   "outputs": [],
   "source": [
    "# 加载CLIP模型和对应的预处理方法\n",
    "device = \"cuda\" if torch.cuda.is_available() else \"cpu\"\n",
    "model, preprocess = clip.load(\"ViT-B/32\", device=device)"
   ]
  },
  {
   "cell_type": "markdown",
   "metadata": {},
   "source": [
    "加载数据集"
   ]
  },
  {
   "cell_type": "code",
   "execution_count": 155,
   "metadata": {},
   "outputs": [],
   "source": [
    "def zeroshot_classifier(test_loader, text_inputs, device=\"cuda\"):\n",
    "    model.eval()\n",
    "    all_preds = []\n",
    "    all_labels = []\n",
    "    with torch.no_grad():\n",
    "        for images, labels in test_loader:\n",
    "            images = images.to(device)\n",
    "\n",
    "            # 计算图像特征\n",
    "            image_features = model.encode_image(images)\n",
    "            image_features /= image_features.norm(dim=-1, keepdim=True)\n",
    "            # 计算文本特征\n",
    "            text_features = model.encode_text(text_inputs)\n",
    "            text_features /= text_features.norm(dim=-1, keepdim=True)\n",
    "            # 计算相似度（例如：进行零样本分类）\n",
    "            similarity = (image_features @ text_features.T).softmax(dim=-1)\n",
    "            \n",
    "            predicted_indices = similarity.argmax(dim=-1)\n",
    "            # 可将predicted_indices与labels对比，计算准确率等\n",
    "            all_preds.extend(predicted_indices.cpu().numpy())\n",
    "            all_labels.extend(labels.numpy())  # labels 已经是二元标签\n",
    "    return all_preds, all_labels"
   ]
  },
  {
   "cell_type": "markdown",
   "metadata": {},
   "source": [
    "重写Dataset类，灵活处理label的问题。"
   ]
  },
  {
   "cell_type": "code",
   "execution_count": 107,
   "metadata": {},
   "outputs": [],
   "source": [
    "\"\"\"参考DatasetFolder类源码：\n",
    "https://pytorch.org/vision/stable/generated/torchvision.datasets.DatasetFolder.html#torchvision.datasets.DatasetFolder\"\"\"\n",
    "from torchvision.datasets import VisionDataset\n",
    "from PIL import Image\n",
    "\n",
    "IMG_EXTENSIONS = (\".jpg\", \".jpeg\", \".png\", \".ppm\", \".bmp\", \".pgm\", \".tif\", \".tiff\", \".webp\")\n",
    "background_color=(255, 255, 255)\n",
    "\n",
    "def pil_loader(path: str) -> Image.Image:\n",
    "    # open path as file to avoid ResourceWarning (https://github.com/python-pillow/Pillow/issues/835)\n",
    "    if has_transparency(path):\n",
    "        with Image.open(path).convert('RGBA') as img:\n",
    "            background = Image.new('RGB', img.size, background_color)\n",
    "            background.paste(img, mask=img.split()[-1])  # 使用Alpha通道作为蒙版\n",
    "            return background\n",
    "    else:\n",
    "        with open(path, \"rb\") as f:\n",
    "            img = Image.open(f)\n",
    "            return img.convert(\"RGB\")\n",
    "\n",
    "def default_loader(path: str) -> Any:\n",
    "    from torchvision import get_image_backend\n",
    "\n",
    "    if get_image_backend() == \"accimage\":\n",
    "        return accimage_loader(path)\n",
    "    else:\n",
    "        return pil_loader(path)\n",
    "\n",
    "def has_file_allowed_extension(filename: str, extensions: Union[str, Tuple[str, ...]]) -> bool:\n",
    "    \"\"\"Checks if a file is an allowed extension.\n",
    "\n",
    "    Args:\n",
    "        filename (string): path to a file\n",
    "        extensions (tuple of strings): extensions to consider (lowercase)\n",
    "\n",
    "    Returns:\n",
    "        bool: True if the filename ends with one of given extensions\n",
    "    \"\"\"\n",
    "    return filename.lower().endswith(extensions if isinstance(extensions, str) else tuple(extensions))\n",
    "\n",
    "def has_transparency(img_path):\n",
    "    with Image.open(img_path) as img:\n",
    "        # 检查是否为RGBA模式（直接包含Alpha通道）\n",
    "        if img.mode in ('RGBA', 'LA'):\n",
    "            # 检查Alpha通道是否有非255的值（存在透明或半透明像素）\n",
    "            if img.getchannel('A').getextrema() != (255, 255):\n",
    "                return True\n",
    "            return False\n",
    "        \n",
    "        # 检查调色板模式（P模式）的透明索引\n",
    "        elif img.mode == 'P':\n",
    "            transparency = img.info.get('transparency', -1)\n",
    "            if transparency != -1:\n",
    "                # 如果有透明索引，检查是否有像素使用该索引\n",
    "                palette = img.getpalette()\n",
    "                alpha_pixels = img.convert('RGBA').getchannel('A')\n",
    "                return alpha_pixels.getextrema() != (255, 255)\n",
    "        \n",
    "        # 其他模式（如RGB）默认无透明通道\n",
    "        return False\n",
    "\n",
    "class CustomDataset(VisionDataset):\n",
    "    def __init__(\n",
    "        self,\n",
    "        root: Union[str, Path],\n",
    "        loader: Callable[[str], Any] = default_loader,\n",
    "        extensions: Optional[Tuple[str, ...]] = None,\n",
    "        transform: Optional[Callable] = None,\n",
    "        target_transform: Optional[Callable] = None,\n",
    "        is_valid_file: Optional[Callable[[str], bool]] = None,\n",
    "        allow_empty: bool = False,\n",
    "        # 目标类别\n",
    "        target_classes: List[str] = None,\n",
    "        **kwargs\n",
    "    ):\n",
    "        super().__init__(root, transform=transform, target_transform=target_transform)\n",
    "        original_classes, original_class_to_idx = self.find_classes(self.root)\n",
    "        target_class_to_idx = {cls_name: i for i, cls_name in enumerate(target_classes)}\n",
    "        map_class = {}\n",
    "        # 5个正类加上其他\n",
    "        if len(target_classes) == 6:\n",
    "            for target_class in target_classes:\n",
    "                if target_class == \"其他\" or target_class == \"others\":\n",
    "                    map_class[target_class] = [\"tennis-racket\", \"cherry\", \"mantou\", \"dress-shirt\", \"violin\"]\n",
    "                elif target_class in [\"badminton-racket\", \"羽毛球拍\"]:\n",
    "                    map_class[target_class] = [\"badminton-racket\"]\n",
    "                elif target_class in [\"lychee\", \"荔枝\"]:\n",
    "                    map_class[target_class] = [\"lychee\"]\n",
    "                elif target_class in [\"baozi\", \"包子\"]:\n",
    "                    map_class[target_class] = [\"baozi\"]\n",
    "                elif target_class in [\"T-shirt\", \"T恤\"]:\n",
    "                    map_class[target_class] = [\"T-shirt\"]\n",
    "                elif target_class in [\"guitar\", \"吉他\"]:\n",
    "                    map_class[target_class] = [\"guitar\"]\n",
    "                else:\n",
    "                    raise ValueError(f\"Found no valid class {target_class}.\")\n",
    "        # 1个正类加上其他\n",
    "        elif len(target_classes) == 2:\n",
    "            for target_class in target_classes:\n",
    "                if target_class in [\"badminton-racket\", \"羽毛球拍\"]:\n",
    "                    map_class[target_class] = [\"badminton-racket\"]\n",
    "                    if target_class == \"badminton-racket\":\n",
    "                        map_class[\"not badminton-racket\"] = [cls_name for idx, cls_name in enumerate(original_classes) if idx != original_class_to_idx[\"badminton-racket\"]]\n",
    "                    else:\n",
    "                        map_class[\"不是羽毛球拍\"] = [cls_name for idx, cls_name in enumerate(original_classes) if idx != original_class_to_idx[\"badminton-racket\"]]\n",
    "                elif target_class in [\"lychee\", \"荔枝\"]:\n",
    "                    map_class[target_class] = [\"lychee\"]\n",
    "                    if target_class == \"lychee\":\n",
    "                        map_class[\"not lychee\"] = [cls_name for idx, cls_name in enumerate(original_classes) if idx != original_class_to_idx[\"lychee\"]]\n",
    "                    else:\n",
    "                        map_class[\"不是荔枝\"] = [cls_name for idx, cls_name in enumerate(original_classes) if idx != original_class_to_idx[\"lychee\"]]\n",
    "                elif target_class in [\"baozi\", \"包子\"]:\n",
    "                    map_class[target_class] = [\"baozi\"]\n",
    "                    if target_class == \"baozi\":\n",
    "                        map_class[\"not baozi\"] = [cls_name for idx, cls_name in enumerate(original_classes) if idx != original_class_to_idx[\"baozi\"]]\n",
    "                    else:\n",
    "                        map_class[\"不是包子\"] = [cls_name for idx, cls_name in enumerate(original_classes) if idx != original_class_to_idx[\"baozi\"]]\n",
    "                elif target_class in [\"T-shirt\", \"T恤\"]:\n",
    "                    map_class[target_class] = [\"T-shirt\"]\n",
    "                    if target_class == \"T-shirt\":\n",
    "                        map_class[\"not T-shirt\"] = [cls_name for idx, cls_name in enumerate(original_classes) if idx != original_class_to_idx[\"T-shirt\"]]\n",
    "                    else:\n",
    "                        map_class[\"不是T恤\"] = [cls_name for idx, cls_name in enumerate(original_classes) if idx != original_class_to_idx[\"T-shirt\"]]\n",
    "                elif target_class in [\"guitar\", \"吉他\"]:\n",
    "                    map_class[target_class] = [\"guitar\"]\n",
    "                    if target_class == \"guitar\":\n",
    "                        map_class[\"not guitar\"] = [cls_name for idx, cls_name in enumerate(original_classes) if idx != original_class_to_idx[\"guitar\"]]\n",
    "                    else:\n",
    "                        map_class[\"不是吉他\"] = [cls_name for idx, cls_name in enumerate(original_classes) if idx != original_class_to_idx[\"guitar\"]]\n",
    "        else:\n",
    "            raise ValueError(\"Not match!\")\n",
    "            \n",
    "        samples = self.make_dataset(\n",
    "            self.root,\n",
    "            target_class_to_idx,\n",
    "            map_class,\n",
    "            extensions=IMG_EXTENSIONS,\n",
    "            is_valid_file=is_valid_file,\n",
    "            allow_empty=allow_empty,\n",
    "        )\n",
    "        \n",
    "        self.loader = loader\n",
    "        self.extensions = extensions\n",
    "\n",
    "        self.classes = target_classes\n",
    "        self.class_to_idx = target_class_to_idx\n",
    "        self.samples = samples\n",
    "        self.targets = [s[1] for s in samples]\n",
    "        \n",
    "    @staticmethod    \n",
    "    def make_dataset(\n",
    "        directory: Union[str, Path],\n",
    "        class_to_idx: Dict[str, int],\n",
    "        map_class: Optional[Dict[str, str]] = None,\n",
    "        extensions: Optional[Tuple[str, ...]] = None,\n",
    "        is_valid_file: Optional[Callable[[str], bool]] = None,\n",
    "        allow_empty: bool = False,\n",
    "    ) -> List[Tuple[str, int]]:\n",
    "        \"\"\"\n",
    "        重写 make_dataset，处理合并后的标签逻辑\n",
    "        \"\"\"\n",
    "        directory = os.path.expanduser(directory)\n",
    "\n",
    "        if class_to_idx is None:\n",
    "            _, class_to_idx = find_classes(directory)\n",
    "        elif not class_to_idx:\n",
    "            raise ValueError(\"'class_to_index' must have at least one entry to collect any samples.\")\n",
    "\n",
    "        both_none = extensions is None and is_valid_file is None\n",
    "        both_something = extensions is not None and is_valid_file is not None\n",
    "        if both_none or both_something:\n",
    "            raise ValueError(\"Both extensions and is_valid_file cannot be None or not None at the same time\")\n",
    "\n",
    "        if extensions is not None:\n",
    "\n",
    "            def is_valid_file(x: str) -> bool:\n",
    "                return has_file_allowed_extension(x, extensions)  # type: ignore[arg-type]\n",
    "\n",
    "        is_valid_file = cast(Callable[[str], bool], is_valid_file)\n",
    "\n",
    "        instances = []\n",
    "        available_classes = set()\n",
    "        for target_class in sorted(class_to_idx.keys()):\n",
    "            class_index = class_to_idx[target_class]\n",
    "            for path_name in map_class[target_class]:\n",
    "                target_dir = os.path.join(directory, path_name)\n",
    "                if not os.path.isdir(target_dir):\n",
    "                    continue\n",
    "                for root, _, fnames in sorted(os.walk(target_dir, followlinks=True)):\n",
    "                    for fname in sorted(fnames):\n",
    "                        path = os.path.join(root, fname)\n",
    "                        if is_valid_file(path):\n",
    "                            item = path, class_index\n",
    "                            instances.append(item)\n",
    "\n",
    "                            if target_class not in available_classes:\n",
    "                                available_classes.add(target_class)\n",
    "        empty_classes = set(class_to_idx.keys()) - available_classes\n",
    "        if empty_classes and not allow_empty:\n",
    "            msg = f\"Found no valid file for the classes {', '.join(sorted(empty_classes))}. \"\n",
    "            if extensions is not None:\n",
    "                msg += f\"Supported extensions are: {extensions if isinstance(extensions, str) else ', '.join(extensions)}\"\n",
    "            raise FileNotFoundError(msg)\n",
    "\n",
    "        return instances\n",
    "        \n",
    "    def find_classes(self, directory: Union[str, Path]) -> List[str]:\n",
    "        \"\"\"Find the class folders in a dataset structured as follows::\n",
    "\n",
    "            directory/\n",
    "            ├── class_x\n",
    "            │   ├── xxx.ext\n",
    "            │   ├── xxy.ext\n",
    "            │   └── ...\n",
    "            │       └── xxz.ext\n",
    "            └── class_y\n",
    "                ├── 123.ext\n",
    "                ├── nsdf3.ext\n",
    "                └── ...\n",
    "                └── asd932_.ext\n",
    "\n",
    "        This method can be overridden to only consider\n",
    "        a subset of classes, or to adapt to a different dataset directory structure.\n",
    "\n",
    "        Args:\n",
    "            directory(str): Root directory path, corresponding to ``self.root``\n",
    "\n",
    "        Raises:\n",
    "            FileNotFoundError: If ``dir`` has no class folders.\n",
    "\n",
    "        Returns:\n",
    "            (Tuple[List[str], Dict[str, int]]): List of all classes and dictionary mapping each class to an index.\n",
    "        \"\"\"\n",
    "        classes = sorted(entry.name for entry in os.scandir(directory) if entry.is_dir())\n",
    "        if not classes:\n",
    "            raise FileNotFoundError(f\"Couldn't find any class folder in {directory}.\")\n",
    "            \n",
    "        class_to_idx = {cls_name: i for i, cls_name in enumerate(classes)}\n",
    "        return classes, class_to_idx\n",
    "    \n",
    "    def __getitem__(self, index: int) -> Tuple[Any, Any]:\n",
    "        \"\"\"\n",
    "        Args:\n",
    "            index (int): Index\n",
    "\n",
    "        Returns:\n",
    "            tuple: (sample, target) where target is class_index of the target class.\n",
    "        \"\"\"\n",
    "        path, target = self.samples[index]\n",
    "        sample = self.loader(path)\n",
    "        if self.transform is not None:\n",
    "            sample = self.transform(sample)\n",
    "        if self.target_transform is not None:\n",
    "            target = self.target_transform(target)\n",
    "\n",
    "        return sample, target\n",
    "\n",
    "    def __len__(self) -> int:\n",
    "        return len(self.samples)\n"
   ]
  },
  {
   "cell_type": "code",
   "execution_count": 125,
   "metadata": {},
   "outputs": [],
   "source": [
    " def eval(preds, labels, target_classes):\n",
    "     preds = np.array(preds)\n",
    "     labels = np.array(labels)\n",
    "     print(f\"label_idx\\tlabel\\tprecision\\trecall\\tF1-score\\n\")\n",
    "     for label_idx, target_class in enumerate(target_classes):\n",
    "         # 计算tp,fp,fn 这里注意后面的分母是不是会出现nan或者0\n",
    "         tp = sum((preds == label_idx) & (labels == label_idx))\n",
    "         fp = sum((preds == label_idx) & (labels != label_idx))\n",
    "         fn = sum((preds != label_idx) & (labels == label_idx))\n",
    "         # precision = TP / TP + FP\n",
    "         precision = tp / (tp + fp)\n",
    "         # recall = TP / TP + FN\n",
    "         recall = tp / (tp + fn)\n",
    "         \n",
    "         # f1-score = 2 * precision * recall / (precision + recall )\n",
    "         f1_score = 2 * precision * recall / (precision + recall)\n",
    "\n",
    "         print(f\"{label_idx}\\t{target_class}\\t{precision:.4f}\\t{recall:.4f}\\t{f1_score:.4f}\\n\")"
   ]
  },
  {
   "cell_type": "markdown",
   "metadata": {},
   "source": [
    "### 测试5类加others的效果"
   ]
  },
  {
   "cell_type": "markdown",
   "metadata": {},
   "source": [
    "针对5个正类别加上others负类别做测试"
   ]
  },
  {
   "cell_type": "code",
   "execution_count": 109,
   "metadata": {},
   "outputs": [],
   "source": [
    "target_classes = [\"T-shirt\", \"guitar\", \"badminton-racket\", \"baozi\", \"lychee\", \"others\"]"
   ]
  },
  {
   "cell_type": "markdown",
   "metadata": {},
   "source": [
    "更改类别映射关系"
   ]
  },
  {
   "cell_type": "code",
   "execution_count": 136,
   "metadata": {},
   "outputs": [
    {
     "name": "stdout",
     "output_type": "stream",
     "text": [
      "['T-shirt', 'guitar', 'badminton-racket', 'baozi', 'lychee', 'others']\n",
      "{'T-shirt': 0, 'guitar': 1, 'badminton-racket': 2, 'baozi': 3, 'lychee': 4, 'others': 5}\n"
     ]
    }
   ],
   "source": [
    "dataset = CustomDataset(\n",
    "    root=\"/root/autodl-tmp/Image-Downloader/images/\",\n",
    "    transform=preprocess,\n",
    "    target_classes=target_classes,\n",
    ")\n",
    "\n",
    "# 输出类别映射\n",
    "print(dataset.classes)  \n",
    "print(dataset.class_to_idx)    "
   ]
  },
  {
   "cell_type": "code",
   "execution_count": 111,
   "metadata": {},
   "outputs": [],
   "source": [
    "# 示例：准备文本输入（将所有类别转换为CLIP的文本特征）\n",
    "text_inputs = torch.cat([clip.tokenize(f\"{cls}\") for cls in target_classes]).to(device)"
   ]
  },
  {
   "cell_type": "code",
   "execution_count": 112,
   "metadata": {},
   "outputs": [
    {
     "data": {
      "text/plain": [
       "torch.Size([6, 77])"
      ]
     },
     "execution_count": 112,
     "metadata": {},
     "output_type": "execute_result"
    }
   ],
   "source": [
    "text_inputs.shape"
   ]
  },
  {
   "cell_type": "code",
   "execution_count": 113,
   "metadata": {},
   "outputs": [],
   "source": [
    "# 创建DataLoader（按需调整batch_size和num_workers）\n",
    "test_loader = DataLoader(dataset, batch_size=32, shuffle=True, num_workers=4)"
   ]
  },
  {
   "cell_type": "code",
   "execution_count": 114,
   "metadata": {},
   "outputs": [
    {
     "data": {
      "text/plain": [
       "63"
      ]
     },
     "execution_count": 114,
     "metadata": {},
     "output_type": "execute_result"
    }
   ],
   "source": [
    "len(test_loader)"
   ]
  },
  {
   "cell_type": "markdown",
   "metadata": {},
   "source": [
    "可视化test_loader，验证dataset是否有问题"
   ]
  },
  {
   "cell_type": "code",
   "execution_count": 115,
   "metadata": {},
   "outputs": [],
   "source": [
    "# 获取一个批次的数据（假设batch_size=32）\n",
    "images, labels = next(iter(test_loader))\n",
    "# 选择第一张图片（索引0）进行可视化\n",
    "img = images[1].cpu().permute(1, 2, 0).numpy()  # 调整维度为HWC\n",
    "label = labels[1].item() "
   ]
  },
  {
   "cell_type": "code",
   "execution_count": 116,
   "metadata": {},
   "outputs": [
    {
     "data": {
      "image/png": "[encoded data removed]",
      "text/plain": [
       "<Figure size 640x480 with 1 Axes>"
      ]
     },
     "metadata": {},
     "output_type": "display_data"
    }
   ],
   "source": [
    "# 反归一化（假设数据集使用ImageNet均值和标准差）\n",
    "mean = np.array([0.485, 0.456, 0.406])\n",
    "std = np.array([0.229, 0.224, 0.225])\n",
    "img = (img * std + mean) * 255  # 转换为0-255的uint8格式\n",
    "img = img.astype(np.uint8)\n",
    "\n",
    "import matplotlib.pyplot as plt\n",
    "# 显示图片并标注标签\n",
    "plt.imshow(img)\n",
    "plt.title(f\"Label: {label}\")\n",
    "plt.axis(\"off\")\n",
    "plt.show()"
   ]
  },
  {
   "cell_type": "markdown",
   "metadata": {},
   "source": [
    "尝试一张图片和text"
   ]
  },
  {
   "cell_type": "code",
   "execution_count": 117,
   "metadata": {},
   "outputs": [
    {
     "name": "stdout",
     "output_type": "stream",
     "text": [
      "torch.Size([1, 3, 224, 224])\n",
      "[[1.222e-05 2.211e-05 9.995e-01 1.132e-05 2.341e-04 1.621e-05]]\n"
     ]
    }
   ],
   "source": [
    "# 获取一个批次的数据（假设batch_size=32）\n",
    "images, labels = next(iter(test_loader))\n",
    "# 选择第一张图片（索引0）进行可视化\n",
    "img = images[1]  # 调整维度为HWC\n",
    "label = labels[1].item()\n",
    "model.eval()\n",
    "with torch.no_grad():\n",
    "    img = img.unsqueeze(0).to(device)\n",
    "    print(img.shape)\n",
    "\n",
    "    logits_per_image, logits_per_text = model(img, text_inputs)\n",
    "    probs = logits_per_image.softmax(dim=-1).cpu().numpy()\n",
    "    print(probs)"
   ]
  },
  {
   "cell_type": "code",
   "execution_count": 118,
   "metadata": {},
   "outputs": [
    {
     "name": "stdout",
     "output_type": "stream",
     "text": [
      "tensor([[0.1624, 0.1633, 0.1819, 0.1622, 0.1672, 0.1628]], device='cuda:0',\n",
      "       dtype=torch.float16)\n",
      "tensor([2], device='cuda:0')\n"
     ]
    }
   ],
   "source": [
    "model.eval()\n",
    "with torch.no_grad():\n",
    "    image = img.to(device)\n",
    "\n",
    "    # 计算图像特征|\n",
    "    image_features = model.encode_image(image)\n",
    "    image_features /= image_features.norm(dim=-1, keepdim=True)\n",
    "    # 计算文本特征\n",
    "    text_features = model.encode_text(text_inputs)\n",
    "    text_features /= text_features.norm(dim=-1, keepdim=True)\n",
    "    # 计算相似度（例如：进行零样本分类）\n",
    "    similarity = (image_features @ text_features.T).softmax(dim=-1)\n",
    "    print(similarity)\n",
    "            \n",
    "    predicted_indices = similarity.argmax(dim=-1)\n",
    "    print(predicted_indices)"
   ]
  },
  {
   "cell_type": "code",
   "execution_count": 137,
   "metadata": {},
   "outputs": [
    {
     "name": "stderr",
     "output_type": "stream",
     "text": [
      "/root/miniconda3/lib/python3.10/site-packages/PIL/TiffImagePlugin.py:890: UserWarning: Corrupt EXIF data.  Expecting to read 4 bytes but only got 0. \n",
      "  warnings.warn(str(msg))\n"
     ]
    }
   ],
   "source": [
    "all_preds, all_labels = zeroshot_classifier(test_loader, text_inputs)"
   ]
  },
  {
   "cell_type": "code",
   "execution_count": 138,
   "metadata": {},
   "outputs": [
    {
     "data": {
      "text/plain": [
       "'              precision    recall  f1-score   support\\n\\n           0       0.54      0.99      0.69       200\\n           1       0.50      0.99      0.67       200\\n           2       0.49      0.99      0.66       200\\n           3       0.49      1.00      0.65       200\\n           4       0.49      1.00      0.65       200\\n           5       1.00      0.01      0.02      1000\\n\\n    accuracy                           0.50      2000\\n   macro avg       0.58      0.83      0.56      2000\\nweighted avg       0.75      0.50      0.34      2000\\n'"
      ]
     },
     "execution_count": 138,
     "metadata": {},
     "output_type": "execute_result"
    }
   ],
   "source": [
    "classification_report(all_labels, all_preds)"
   ]
  },
  {
   "cell_type": "code",
   "execution_count": 139,
   "metadata": {},
   "outputs": [
    {
     "name": "stdout",
     "output_type": "stream",
     "text": [
      "label_idx\tlabel\tprecision\trecall\tF1-score\n",
      "\n",
      "0\tT-shirt\t0.5351\t0.9900\t0.6947\n",
      "\n",
      "1\tguitar\t0.5038\t0.9900\t0.6678\n",
      "\n",
      "2\tbadminton-racket\t0.4938\t0.9950\t0.6600\n",
      "\n",
      "3\tbaozi\t0.4854\t1.0000\t0.6536\n",
      "\n",
      "4\tlychee\t0.4854\t1.0000\t0.6536\n",
      "\n",
      "5\tothers\t1.0000\t0.0100\t0.0198\n",
      "\n"
     ]
    }
   ],
   "source": [
    "eval(all_preds, all_labels, target_classes)"
   ]
  },
  {
   "cell_type": "markdown",
   "metadata": {},
   "source": [
    "## 验证两两分类的效果"
   ]
  },
  {
   "cell_type": "code",
   "execution_count": 142,
   "metadata": {},
   "outputs": [],
   "source": [
    "target_classes = [\"T-shirt\", \"not T-shirt\"]"
   ]
  },
  {
   "cell_type": "code",
   "execution_count": 143,
   "metadata": {},
   "outputs": [
    {
     "name": "stdout",
     "output_type": "stream",
     "text": [
      "['T-shirt', 'not T-shirt']\n",
      "{'T-shirt': 0, 'not T-shirt': 1}\n"
     ]
    }
   ],
   "source": [
    "dataset = CustomDataset(\n",
    "    root=\"/root/autodl-tmp/Image-Downloader/images/\",\n",
    "    transform=preprocess,\n",
    "    target_classes=target_classes,\n",
    ")\n",
    "\n",
    "# 输出类别映射\n",
    "print(dataset.classes)  \n",
    "print(dataset.class_to_idx)    "
   ]
  },
  {
   "cell_type": "code",
   "execution_count": 144,
   "metadata": {},
   "outputs": [],
   "source": [
    "# 示例：准备文本输入（将所有类别转换为CLIP的文本特征）\n",
    "text_inputs = torch.cat([clip.tokenize(f\"{cls}\") for cls in target_classes]).to(device)"
   ]
  },
  {
   "cell_type": "code",
   "execution_count": 145,
   "metadata": {},
   "outputs": [
    {
     "data": {
      "text/plain": [
       "2"
      ]
     },
     "execution_count": 145,
     "metadata": {},
     "output_type": "execute_result"
    }
   ],
   "source": [
    "len(text_inputs)"
   ]
  },
  {
   "cell_type": "code",
   "execution_count": 146,
   "metadata": {},
   "outputs": [],
   "source": [
    "# 创建DataLoader（按需调整batch_size和num_workers）\n",
    "test_loader = DataLoader(dataset, batch_size=32, shuffle=False, num_workers=4)"
   ]
  },
  {
   "cell_type": "code",
   "execution_count": 153,
   "metadata": {},
   "outputs": [
    {
     "name": "stderr",
     "output_type": "stream",
     "text": [
      "/root/miniconda3/lib/python3.10/site-packages/PIL/TiffImagePlugin.py:890: UserWarning: Corrupt EXIF data.  Expecting to read 4 bytes but only got 0. \n",
      "  warnings.warn(str(msg))\n"
     ]
    }
   ],
   "source": [
    "all_preds, all_labels = zeroshot_classifier(test_loader, text_inputs)"
   ]
  },
  {
   "cell_type": "code",
   "execution_count": null,
   "metadata": {},
   "outputs": [],
   "source": []
  },
  {
   "cell_type": "code",
   "execution_count": 154,
   "metadata": {},
   "outputs": [
    {
     "name": "stdout",
     "output_type": "stream",
     "text": [
      "label_idx\tlabel\tprecision\trecall\tF1-score\n",
      "\n",
      "0\tT-shirt\t0.2525\t0.1250\t0.1672\n",
      "\n",
      "1\tnot T-shirt\t0.9079\t0.9589\t0.9327\n",
      "\n"
     ]
    }
   ],
   "source": [
    "eval(all_preds, all_labels, target_classes)"
   ]
  },
  {
   "cell_type": "code",
   "execution_count": 150,
   "metadata": {},
   "outputs": [
    {
     "data": {
      "text/plain": [
       "'              precision    recall  f1-score   support\\n\\n           0       0.21      0.92      0.34       200\\n           1       0.99      0.60      0.75      1800\\n\\n    accuracy                           0.64      2000\\n   macro avg       0.60      0.76      0.54      2000\\nweighted avg       0.91      0.64      0.71      2000\\n'"
      ]
     },
     "execution_count": 150,
     "metadata": {},
     "output_type": "execute_result"
    }
   ],
   "source": [
    "classification_report(all_labels, all_preds)"
   ]
  },
  {
   "cell_type": "code",
   "execution_count": null,
   "metadata": {},
   "outputs": [],
   "source": []
  },
  {
   "cell_type": "code",
   "execution_count": 156,
   "metadata": {},
   "outputs": [],
   "source": [
    "target_classes = [\"guitar\", \"not guitar\"]"
   ]
  },
  {
   "cell_type": "code",
   "execution_count": 157,
   "metadata": {},
   "outputs": [
    {
     "name": "stdout",
     "output_type": "stream",
     "text": [
      "['guitar', 'not guitar']\n",
      "{'guitar': 0, 'not guitar': 1}\n"
     ]
    }
   ],
   "source": [
    "dataset = CustomDataset(\n",
    "    root=\"/root/autodl-tmp/Image-Downloader/images/\",\n",
    "    transform=preprocess,\n",
    "    target_classes=target_classes,\n",
    ")\n",
    "\n",
    "# 输出类别映射\n",
    "print(dataset.classes)  \n",
    "print(dataset.class_to_idx)    "
   ]
  },
  {
   "cell_type": "code",
   "execution_count": null,
   "metadata": {},
   "outputs": [],
   "source": []
  },
  {
   "cell_type": "code",
   "execution_count": 158,
   "metadata": {},
   "outputs": [],
   "source": [
    "# 示例：准备文本输入（将所有类别转换为CLIP的文本特征）\n",
    "text_inputs = torch.cat([clip.tokenize(f\"{cls}\") for cls in target_classes]).to(device)"
   ]
  },
  {
   "cell_type": "code",
   "execution_count": 159,
   "metadata": {},
   "outputs": [],
   "source": [
    "# 创建DataLoader（按需调整batch_size和num_workers）\n",
    "test_loader = DataLoader(dataset, batch_size=32, shuffle=False, num_workers=4)"
   ]
  },
  {
   "cell_type": "code",
   "execution_count": 160,
   "metadata": {},
   "outputs": [
    {
     "name": "stderr",
     "output_type": "stream",
     "text": [
      "/root/miniconda3/lib/python3.10/site-packages/PIL/TiffImagePlugin.py:890: UserWarning: Corrupt EXIF data.  Expecting to read 4 bytes but only got 0. \n",
      "  warnings.warn(str(msg))\n"
     ]
    }
   ],
   "source": [
    "all_preds, all_labels = zeroshot_classifier(test_loader, text_inputs)"
   ]
  },
  {
   "cell_type": "code",
   "execution_count": 161,
   "metadata": {},
   "outputs": [
    {
     "name": "stdout",
     "output_type": "stream",
     "text": [
      "label_idx\tlabel\tprecision\trecall\tF1-score\n",
      "\n",
      "0\tguitar\t0.4588\t0.9750\t0.6240\n",
      "\n",
      "1\tnot guitar\t0.9968\t0.8722\t0.9304\n",
      "\n"
     ]
    }
   ],
   "source": [
    "eval(all_preds, all_labels, target_classes)"
   ]
  },
  {
   "cell_type": "code",
   "execution_count": 162,
   "metadata": {},
   "outputs": [],
   "source": [
    "target_classes = [\"badminton-racket\", \"not badminton-racket\"]"
   ]
  },
  {
   "cell_type": "code",
   "execution_count": 163,
   "metadata": {},
   "outputs": [
    {
     "name": "stdout",
     "output_type": "stream",
     "text": [
      "['badminton-racket', 'not badminton-racket']\n",
      "{'badminton-racket': 0, 'not badminton-racket': 1}\n"
     ]
    }
   ],
   "source": [
    "dataset = CustomDataset(\n",
    "    root=\"/root/autodl-tmp/Image-Downloader/images/\",\n",
    "    transform=preprocess,\n",
    "    target_classes=target_classes,\n",
    ")\n",
    "\n",
    "# 输出类别映射\n",
    "print(dataset.classes)  \n",
    "print(dataset.class_to_idx)   "
   ]
  },
  {
   "cell_type": "code",
   "execution_count": 164,
   "metadata": {},
   "outputs": [],
   "source": [
    "# 示例：准备文本输入（将所有类别转换为CLIP的文本特征）\n",
    "text_inputs = torch.cat([clip.tokenize(f\"{cls}\") for cls in target_classes]).to(device)"
   ]
  },
  {
   "cell_type": "code",
   "execution_count": 165,
   "metadata": {},
   "outputs": [],
   "source": [
    "# 创建DataLoader（按需调整batch_size和num_workers）\n",
    "test_loader = DataLoader(dataset, batch_size=32, shuffle=False, num_workers=4)"
   ]
  },
  {
   "cell_type": "code",
   "execution_count": 166,
   "metadata": {},
   "outputs": [
    {
     "name": "stderr",
     "output_type": "stream",
     "text": [
      "/root/miniconda3/lib/python3.10/site-packages/PIL/TiffImagePlugin.py:890: UserWarning: Corrupt EXIF data.  Expecting to read 4 bytes but only got 0. \n",
      "  warnings.warn(str(msg))\n"
     ]
    }
   ],
   "source": [
    "all_preds, all_labels = zeroshot_classifier(test_loader, text_inputs)"
   ]
  },
  {
   "cell_type": "code",
   "execution_count": 167,
   "metadata": {},
   "outputs": [
    {
     "name": "stdout",
     "output_type": "stream",
     "text": [
      "label_idx\tlabel\tprecision\trecall\tF1-score\n",
      "\n",
      "0\tbadminton-racket\t0.4205\t0.9650\t0.5857\n",
      "\n",
      "1\tnot badminton-racket\t0.9955\t0.8522\t0.9183\n",
      "\n"
     ]
    }
   ],
   "source": [
    "eval(all_preds, all_labels, target_classes)"
   ]
  },
  {
   "cell_type": "code",
   "execution_count": 168,
   "metadata": {},
   "outputs": [],
   "source": [
    "target_classes = [\"baozi\", \"not baozi\"]"
   ]
  },
  {
   "cell_type": "code",
   "execution_count": 169,
   "metadata": {},
   "outputs": [
    {
     "name": "stdout",
     "output_type": "stream",
     "text": [
      "['baozi', 'not baozi']\n",
      "{'baozi': 0, 'not baozi': 1}\n"
     ]
    }
   ],
   "source": [
    "dataset = CustomDataset(\n",
    "    root=\"/root/autodl-tmp/Image-Downloader/images/\",\n",
    "    transform=preprocess,\n",
    "    target_classes=target_classes,\n",
    ")\n",
    "\n",
    "# 输出类别映射\n",
    "print(dataset.classes)  \n",
    "print(dataset.class_to_idx)   "
   ]
  },
  {
   "cell_type": "code",
   "execution_count": 170,
   "metadata": {},
   "outputs": [],
   "source": [
    "# 示例：准备文本输入（将所有类别转换为CLIP的文本特征）\n",
    "text_inputs = torch.cat([clip.tokenize(f\"{cls}\") for cls in target_classes]).to(device)"
   ]
  },
  {
   "cell_type": "code",
   "execution_count": 171,
   "metadata": {},
   "outputs": [],
   "source": [
    "# 创建DataLoader（按需调整batch_size和num_workers）\n",
    "test_loader = DataLoader(dataset, batch_size=32, shuffle=False, num_workers=4)"
   ]
  },
  {
   "cell_type": "code",
   "execution_count": 172,
   "metadata": {},
   "outputs": [
    {
     "name": "stderr",
     "output_type": "stream",
     "text": [
      "/root/miniconda3/lib/python3.10/site-packages/PIL/TiffImagePlugin.py:890: UserWarning: Corrupt EXIF data.  Expecting to read 4 bytes but only got 0. \n",
      "  warnings.warn(str(msg))\n"
     ]
    }
   ],
   "source": [
    "all_preds, all_labels = zeroshot_classifier(test_loader, text_inputs)"
   ]
  },
  {
   "cell_type": "code",
   "execution_count": 173,
   "metadata": {},
   "outputs": [
    {
     "name": "stdout",
     "output_type": "stream",
     "text": [
      "label_idx\tlabel\tprecision\trecall\tF1-score\n",
      "\n",
      "0\tbaozi\t0.1418\t0.9900\t0.2481\n",
      "\n",
      "1\tnot baozi\t0.9967\t0.3344\t0.5008\n",
      "\n"
     ]
    }
   ],
   "source": [
    "eval(all_preds, all_labels, target_classes)"
   ]
  },
  {
   "cell_type": "code",
   "execution_count": 174,
   "metadata": {},
   "outputs": [],
   "source": [
    "target_classes = [\"lychee\", \"not lychee\"]"
   ]
  },
  {
   "cell_type": "code",
   "execution_count": 175,
   "metadata": {},
   "outputs": [
    {
     "name": "stdout",
     "output_type": "stream",
     "text": [
      "['lychee', 'not lychee']\n",
      "{'lychee': 0, 'not lychee': 1}\n"
     ]
    }
   ],
   "source": [
    "dataset = CustomDataset(\n",
    "    root=\"/root/autodl-tmp/Image-Downloader/images/\",\n",
    "    transform=preprocess,\n",
    "    target_classes=target_classes,\n",
    ")\n",
    "\n",
    "# 输出类别映射\n",
    "print(dataset.classes)  \n",
    "print(dataset.class_to_idx)   "
   ]
  },
  {
   "cell_type": "code",
   "execution_count": 176,
   "metadata": {},
   "outputs": [],
   "source": [
    "# 示例：准备文本输入（将所有类别转换为CLIP的文本特征）\n",
    "text_inputs = torch.cat([clip.tokenize(f\"{cls}\") for cls in target_classes]).to(device)"
   ]
  },
  {
   "cell_type": "code",
   "execution_count": 177,
   "metadata": {},
   "outputs": [],
   "source": [
    "# 创建DataLoader（按需调整batch_size和num_workers）\n",
    "test_loader = DataLoader(dataset, batch_size=32, shuffle=False, num_workers=4)"
   ]
  },
  {
   "cell_type": "code",
   "execution_count": 178,
   "metadata": {},
   "outputs": [
    {
     "name": "stderr",
     "output_type": "stream",
     "text": [
      "/root/miniconda3/lib/python3.10/site-packages/PIL/TiffImagePlugin.py:890: UserWarning: Corrupt EXIF data.  Expecting to read 4 bytes but only got 0. \n",
      "  warnings.warn(str(msg))\n"
     ]
    }
   ],
   "source": [
    "all_preds, all_labels = zeroshot_classifier(test_loader, text_inputs)"
   ]
  },
  {
   "cell_type": "code",
   "execution_count": 179,
   "metadata": {},
   "outputs": [
    {
     "name": "stdout",
     "output_type": "stream",
     "text": [
      "label_idx\tlabel\tprecision\trecall\tF1-score\n",
      "\n",
      "0\tlychee\t0.1608\t0.9850\t0.2765\n",
      "\n",
      "1\tnot lychee\t0.9961\t0.4289\t0.5996\n",
      "\n"
     ]
    }
   ],
   "source": [
    "eval(all_preds, all_labels, target_classes)"
   ]
  },
  {
   "cell_type": "markdown",
   "metadata": {},
   "source": [
    "## 卡阈值"
   ]
  },
  {
   "cell_type": "code",
   "execution_count": 214,
   "metadata": {},
   "outputs": [],
   "source": [
    "def get_similarity(test_loader, text_inputs, device=\"cuda\"):\n",
    "    model.eval()\n",
    "    # 记录正类和负类的阈值\n",
    "    pos_res = []\n",
    "    neg_res = []\n",
    "    with torch.no_grad():\n",
    "        for images, labels in test_loader:\n",
    "            images = images.to(device)\n",
    "\n",
    "            # 计算图像特征\n",
    "            image_features = model.encode_image(images)\n",
    "            image_features /= image_features.norm(dim=-1, keepdim=True)\n",
    "            # 计算文本特征\n",
    "            text_features = model.encode_text(text_inputs)\n",
    "            text_features /= text_features.norm(dim=-1, keepdim=True)\n",
    "\n",
    "            logit_scale = model.logit_scale.exp()\n",
    "        \n",
    "            # 计算相似度（例如：进行零样本分类）\n",
    "            similarity = logit_scale * torch.nn.functional.cosine_similarity(image_features, text_features)\n",
    "            pos_mask = (labels == 0)  # 正类掩码（标签为0）\n",
    "            neg_mask = (labels == 1)  # 负类掩码（标签为1）\n",
    "\n",
    "            pos_res.extend(similarity.cpu().numpy()[pos_mask])\n",
    "            neg_res.extend(similarity.cpu().numpy()[neg_mask])\n",
    "    return pos_res, neg_res\n",
    "            "
   ]
  },
  {
   "cell_type": "code",
   "execution_count": 181,
   "metadata": {},
   "outputs": [],
   "source": [
    "target_classes = [\"T-shirt\", \"not T-shirt\"]"
   ]
  },
  {
   "cell_type": "code",
   "execution_count": 182,
   "metadata": {},
   "outputs": [
    {
     "name": "stdout",
     "output_type": "stream",
     "text": [
      "['T-shirt', 'not T-shirt']\n",
      "{'T-shirt': 0, 'not T-shirt': 1}\n"
     ]
    }
   ],
   "source": [
    "dataset = CustomDataset(\n",
    "    root=\"/root/autodl-tmp/Image-Downloader/images/\",\n",
    "    transform=preprocess,\n",
    "    target_classes=target_classes,\n",
    ")\n",
    "\n",
    "# 输出类别映射\n",
    "print(dataset.classes)  \n",
    "print(dataset.class_to_idx)  "
   ]
  },
  {
   "cell_type": "code",
   "execution_count": 183,
   "metadata": {},
   "outputs": [
    {
     "name": "stderr",
     "output_type": "stream",
     "text": [
      "/tmp/ipykernel_1366/3606568352.py:2: UserWarning: To copy construct from a tensor, it is recommended to use sourceTensor.clone().detach() or sourceTensor.clone().detach().requires_grad_(True), rather than torch.tensor(sourceTensor).\n",
      "  text_inputs = torch.tensor(clip.tokenize(\"T-shirt\")).to(device)\n"
     ]
    }
   ],
   "source": [
    "# 示例：准备文本输入（将所有类别转换为CLIP的文本特征）\n",
    "text_inputs = torch.tensor(clip.tokenize(\"T-shirt\")).to(device)"
   ]
  },
  {
   "cell_type": "code",
   "execution_count": 184,
   "metadata": {},
   "outputs": [
    {
     "data": {
      "text/plain": [
       "torch.Size([1, 77])"
      ]
     },
     "execution_count": 184,
     "metadata": {},
     "output_type": "execute_result"
    }
   ],
   "source": [
    "text_inputs.shape"
   ]
  },
  {
   "cell_type": "code",
   "execution_count": 185,
   "metadata": {},
   "outputs": [],
   "source": [
    "# 创建DataLoader（按需调整batch_size和num_workers）\n",
    "test_loader = DataLoader(dataset, batch_size=32, shuffle=False, num_workers=4)"
   ]
  },
  {
   "cell_type": "code",
   "execution_count": 233,
   "metadata": {},
   "outputs": [
    {
     "name": "stderr",
     "output_type": "stream",
     "text": [
      "/root/miniconda3/lib/python3.10/site-packages/PIL/TiffImagePlugin.py:890: UserWarning: Corrupt EXIF data.  Expecting to read 4 bytes but only got 0. \n",
      "  warnings.warn(str(msg))\n"
     ]
    }
   ],
   "source": [
    "pos_res, neg_res = get_similarity(test_loader,text_inputs)"
   ]
  },
  {
   "cell_type": "code",
   "execution_count": 194,
   "metadata": {},
   "outputs": [
    {
     "name": "stdout",
     "output_type": "stream",
     "text": [
      "[27.61, 27.7, 27.95, 25.95, 27.64, 26.98, 28.05, 28.48, 26.66, 27.38, 26.48, 25.64, 28.88, 28.25, 25.14, 26.42, 26.53, 26.95, 26.92, 25.86, 25.73, 28.34, 26.9, 27.25, 26.78, 27.48, 26.47, 25.69, 26.73, 28.16, 25.69, 27.61, 26.73, 26.17, 27.17, 27.94, 26.03, 23.75, 29.39, 27.64, 27.34, 25.61, 29.5, 28.3, 27.56, 27.81, 27.94, 25.19, 28.98, 26.25, 25.75, 24.64, 26.6, 28.08, 28.22, 27.7, 28.72, 28.2, 28.1, 27.25, 27.47, 28.6, 27.86, 26.3, 26.92, 28.3, 27.81, 25.12, 27.69, 28.1, 25.9, 27.7, 26.64, 28.05, 25.73, 25.88, 27.3, 25.78, 27.16, 25.0, 28.16, 29.08, 27.81, 26.44, 26.86, 28.69, 27.48, 28.47, 25.6, 29.72, 28.3, 28.83, 28.56, 26.64, 29.44, 27.16, 27.48, 29.34, 28.3, 28.22, 28.2, 28.05, 27.44, 26.81, 28.73, 26.92, 29.73, 28.69, 28.12, 27.25, 27.66, 28.12, 25.05, 26.14, 23.9, 28.12, 27.0, 27.9, 26.48, 27.22, 29.95, 27.22, 27.98, 26.39, 29.3, 28.6, 27.42, 28.55, 25.61, 27.16, 29.03, 26.42, 29.2, 26.08, 30.69, 25.0, 26.83, 26.92, 27.27, 28.56, 27.69, 26.47, 27.66, 27.34, 28.16, 28.61, 28.1, 26.56, 26.03, 28.81, 27.83, 28.34, 29.69, 25.66, 27.17, 27.22, 27.52, 26.75, 24.19, 25.92, 24.55, 25.66, 27.39, 26.05, 26.12, 27.25, 27.73, 27.81, 28.25, 27.78, 26.88, 26.22, 27.05, 26.22, 28.61, 27.39, 28.08, 25.05, 26.83, 26.56, 27.98, 29.5, 25.19, 26.81, 25.48, 27.66, 22.17, 26.86, 25.75, 26.47, 25.05, 28.31, 27.64, 27.95, 28.22, 25.81, 28.17, 28.66, 25.48, 28.72]\n"
     ]
    }
   ],
   "source": [
    "print(pos_res)"
   ]
  },
  {
   "cell_type": "code",
   "execution_count": 195,
   "metadata": {},
   "outputs": [
    {
     "name": "stdout",
     "output_type": "stream",
     "text": [
      "200\n",
      "1800\n"
     ]
    }
   ],
   "source": [
    "print(len(pos_res))\n",
    "print(len(neg_res))"
   ]
  },
  {
   "cell_type": "code",
   "execution_count": 202,
   "metadata": {},
   "outputs": [],
   "source": [
    "def eval_threshold(pos_res, neg_res, threshold):\n",
    "    pos_res = np.array(pos_res)\n",
    "    neg_res = np.array(neg_res)\n",
    "    # 计算tp,fp,fn 这里注意后面的分母是不是会出现nan或者0\n",
    "    tp = sum(pos_res >= threshold)\n",
    "    fp = sum(neg_res >= threshold)\n",
    "    fn = sum(pos_res < threshold)\n",
    "\n",
    "    # precision = TP / TP + FP\n",
    "    precision = tp / (tp + fp)\n",
    "\n",
    "    # recall = TP / TP + FN\n",
    "    recall = tp / (tp + fn)\n",
    "\n",
    "    # f1-score = 2 * precision * recall / (precision + recall )\n",
    "    f1_score = 2 * precision * recall / (precision + recall)\n",
    "\n",
    "    return f1_score, precision, recall"
   ]
  },
  {
   "cell_type": "code",
   "execution_count": 207,
   "metadata": {},
   "outputs": [],
   "source": [
    "def find_thresholds(pos_res, neg_res, target_classes):\n",
    "    thresholds = np.linspace(min(min(pos_res), min(neg_res)), max(max(pos_res), max(neg_res)), 200)\n",
    "\n",
    "    best_threshold = 0.\n",
    "    best_f1_score = 0.\n",
    "    best_precision = 0.\n",
    "    best_recall = 0.\n",
    "    f1_scores = []\n",
    "\n",
    "    for threshold in thresholds:\n",
    "        f1_score, precision, recall = eval_threshold(pos_res, neg_res, threshold)\n",
    "        f1_scores.append(f1_score)\n",
    "\n",
    "        # 判断最佳f1\n",
    "        if f1_score > best_f1_score:\n",
    "            # 更新指标\n",
    "            best_threshold = threshold\n",
    "            best_f1_score = f1_score\n",
    "            best_precision = precision\n",
    "            best_recall = recall\n",
    "\n",
    "    print(f\"{target_classes[0]}_best_threshold\", best_threshold)\n",
    "    print(f\"{target_classes[0]}_best_f1_score\", best_f1_score)\n",
    "    print(f\"{target_classes[0]}_best_precision\", best_precision)\n",
    "    print(f\"{target_classes[0]}_best_recall\", best_recall)\n",
    "\n",
    "    import matplotlib.pyplot as plt\n",
    "    # print(thresholds)\n",
    "    # print(f1_scores)\n",
    "    # 绘制曲线\n",
    "    plt.figure(figsize=(9, 9))\n",
    "    plt.plot(thresholds, f1_scores)\n",
    "    # 绘制最佳点\n",
    "    plt.scatter(x=best_threshold, y=best_f1_score)\n",
    "    plt.annotate(f\"threshold:{best_threshold:.5f}/f1:{best_f1_score:.5f}\", xy=(best_threshold, best_f1_score))\n",
    "    # 添加文字信息\n",
    "    plt.xlabel('threshold')\n",
    "    plt.ylabel('f1_score')\n",
    "    plt.title(f'{target_classes[0]}_precision:{best_precision:.4f}_recall:{best_recall:.4f}')\n",
    "    plt.savefig(f'result_{target_classes[0]}_all.jpg')\n",
    "\n",
    "    print('done')\n"
   ]
  },
  {
   "cell_type": "code",
   "execution_count": 234,
   "metadata": {},
   "outputs": [
    {
     "name": "stdout",
     "output_type": "stream",
     "text": [
      "lychee_best_threshold 27.63269472361809\n",
      "lychee_best_f1_score 0.9468354430379747\n",
      "lychee_best_precision 0.958974358974359\n",
      "lychee_best_recall 0.935\n",
      "done\n"
     ]
    },
    {
     "data": {
      "image/png": "[encoded data removed]",
      "text/plain": [
       "<Figure size 900x900 with 1 Axes>"
      ]
     },
     "metadata": {},
     "output_type": "display_data"
    }
   ],
   "source": [
    "find_thresholds(pos_res, neg_res, target_classes)"
   ]
  },
  {
   "cell_type": "markdown",
   "metadata": {},
   "source": [
    "更改阈值的方法：\n",
    "1. 如果准确率低，召回率高，说明阈值设置过于放松，需要将阈值调大；\n",
    "2. 如果准确率高，召回率低，说明阈值设置过于严苛，需要将阈值调小。"
   ]
  },
  {
   "cell_type": "code",
   "execution_count": 209,
   "metadata": {},
   "outputs": [],
   "source": [
    "target_classes = [\"guitar\", \"not guitar\"]"
   ]
  },
  {
   "cell_type": "code",
   "execution_count": 210,
   "metadata": {},
   "outputs": [
    {
     "name": "stdout",
     "output_type": "stream",
     "text": [
      "['guitar', 'not guitar']\n",
      "{'guitar': 0, 'not guitar': 1}\n"
     ]
    }
   ],
   "source": [
    "dataset = CustomDataset(\n",
    "    root=\"/root/autodl-tmp/Image-Downloader/images/\",\n",
    "    transform=preprocess,\n",
    "    target_classes=target_classes,\n",
    ")\n",
    "\n",
    "# 输出类别映射\n",
    "print(dataset.classes)  \n",
    "print(dataset.class_to_idx)  "
   ]
  },
  {
   "cell_type": "code",
   "execution_count": 211,
   "metadata": {},
   "outputs": [
    {
     "name": "stderr",
     "output_type": "stream",
     "text": [
      "/tmp/ipykernel_1366/2876371305.py:2: UserWarning: To copy construct from a tensor, it is recommended to use sourceTensor.clone().detach() or sourceTensor.clone().detach().requires_grad_(True), rather than torch.tensor(sourceTensor).\n",
      "  text_inputs = torch.tensor(clip.tokenize(\"guitar\")).to(device)\n"
     ]
    }
   ],
   "source": [
    "# 示例：准备文本输入（将所有类别转换为CLIP的文本特征）\n",
    "text_inputs = torch.tensor(clip.tokenize(\"guitar\")).to(device)"
   ]
  },
  {
   "cell_type": "code",
   "execution_count": 212,
   "metadata": {},
   "outputs": [],
   "source": [
    "# 创建DataLoader（按需调整batch_size和num_workers）\n",
    "test_loader = DataLoader(dataset, batch_size=32, shuffle=False, num_workers=4)"
   ]
  },
  {
   "cell_type": "code",
   "execution_count": 217,
   "metadata": {},
   "outputs": [],
   "source": [
    "target_classes = [\"badminton-racket\", \"not badminton-racket\"]"
   ]
  },
  {
   "cell_type": "code",
   "execution_count": 218,
   "metadata": {},
   "outputs": [
    {
     "name": "stdout",
     "output_type": "stream",
     "text": [
      "['badminton-racket', 'not badminton-racket']\n",
      "{'badminton-racket': 0, 'not badminton-racket': 1}\n"
     ]
    }
   ],
   "source": [
    "dataset = CustomDataset(\n",
    "    root=\"/root/autodl-tmp/Image-Downloader/images/\",\n",
    "    transform=preprocess,\n",
    "    target_classes=target_classes,\n",
    ")\n",
    "\n",
    "# 输出类别映射\n",
    "print(dataset.classes)  \n",
    "print(dataset.class_to_idx)  "
   ]
  },
  {
   "cell_type": "code",
   "execution_count": 219,
   "metadata": {},
   "outputs": [
    {
     "name": "stderr",
     "output_type": "stream",
     "text": [
      "/tmp/ipykernel_1366/1489220985.py:2: UserWarning: To copy construct from a tensor, it is recommended to use sourceTensor.clone().detach() or sourceTensor.clone().detach().requires_grad_(True), rather than torch.tensor(sourceTensor).\n",
      "  text_inputs = torch.tensor(clip.tokenize(\"badminton-racket\")).to(device)\n"
     ]
    }
   ],
   "source": [
    "# 示例：准备文本输入（将所有类别转换为CLIP的文本特征）\n",
    "text_inputs = torch.tensor(clip.tokenize(\"badminton-racket\")).to(device)"
   ]
  },
  {
   "cell_type": "code",
   "execution_count": 220,
   "metadata": {},
   "outputs": [],
   "source": [
    "# 创建DataLoader（按需调整batch_size和num_workers）\n",
    "test_loader = DataLoader(dataset, batch_size=32, shuffle=False, num_workers=4)"
   ]
  },
  {
   "cell_type": "code",
   "execution_count": null,
   "metadata": {},
   "outputs": [],
   "source": [
    "all_preds, all_labels = zeroshot_classifier_threshold(test_loader, text_inputs, threshold=0.25)"
   ]
  },
  {
   "cell_type": "code",
   "execution_count": 223,
   "metadata": {},
   "outputs": [],
   "source": [
    "target_classes = [\"baozi\", \"not baozi\"]"
   ]
  },
  {
   "cell_type": "code",
   "execution_count": 224,
   "metadata": {},
   "outputs": [
    {
     "name": "stdout",
     "output_type": "stream",
     "text": [
      "['baozi', 'not baozi']\n",
      "{'baozi': 0, 'not baozi': 1}\n"
     ]
    }
   ],
   "source": [
    "dataset = CustomDataset(\n",
    "    root=\"/root/autodl-tmp/Image-Downloader/images/\",\n",
    "    transform=preprocess,\n",
    "    target_classes=target_classes,\n",
    ")\n",
    "\n",
    "# 输出类别映射\n",
    "print(dataset.classes)  \n",
    "print(dataset.class_to_idx)  "
   ]
  },
  {
   "cell_type": "code",
   "execution_count": 225,
   "metadata": {},
   "outputs": [
    {
     "name": "stderr",
     "output_type": "stream",
     "text": [
      "/tmp/ipykernel_1366/1908063797.py:2: UserWarning: To copy construct from a tensor, it is recommended to use sourceTensor.clone().detach() or sourceTensor.clone().detach().requires_grad_(True), rather than torch.tensor(sourceTensor).\n",
      "  text_inputs = torch.tensor(clip.tokenize(\"baozi\")).to(device)\n"
     ]
    }
   ],
   "source": [
    "# 示例：准备文本输入（将所有类别转换为CLIP的文本特征）\n",
    "text_inputs = torch.tensor(clip.tokenize(\"baozi\")).to(device)"
   ]
  },
  {
   "cell_type": "code",
   "execution_count": 226,
   "metadata": {},
   "outputs": [],
   "source": [
    "# 创建DataLoader（按需调整batch_size和num_workers）\n",
    "test_loader = DataLoader(dataset, batch_size=32, shuffle=False, num_workers=4)"
   ]
  },
  {
   "cell_type": "code",
   "execution_count": null,
   "metadata": {},
   "outputs": [],
   "source": [
    "all_preds, all_labels = zeroshot_classifier_threshold(test_loader, text_inputs, threshold=0.27)"
   ]
  },
  {
   "cell_type": "code",
   "execution_count": null,
   "metadata": {},
   "outputs": [],
   "source": [
    "eval(all_labels, all_preds, target_classes)"
   ]
  },
  {
   "cell_type": "code",
   "execution_count": 229,
   "metadata": {},
   "outputs": [],
   "source": [
    "target_classes = [\"lychee\", \"not lychee\"]"
   ]
  },
  {
   "cell_type": "code",
   "execution_count": 230,
   "metadata": {},
   "outputs": [
    {
     "name": "stdout",
     "output_type": "stream",
     "text": [
      "['lychee', 'not lychee']\n",
      "{'lychee': 0, 'not lychee': 1}\n"
     ]
    }
   ],
   "source": [
    "dataset = CustomDataset(\n",
    "    root=\"/root/autodl-tmp/Image-Downloader/images/\",\n",
    "    transform=preprocess,\n",
    "    target_classes=target_classes,\n",
    ")\n",
    "\n",
    "# 输出类别映射\n",
    "print(dataset.classes)  \n",
    "print(dataset.class_to_idx)  "
   ]
  },
  {
   "cell_type": "code",
   "execution_count": 231,
   "metadata": {},
   "outputs": [
    {
     "name": "stderr",
     "output_type": "stream",
     "text": [
      "/tmp/ipykernel_1366/2618461716.py:2: UserWarning: To copy construct from a tensor, it is recommended to use sourceTensor.clone().detach() or sourceTensor.clone().detach().requires_grad_(True), rather than torch.tensor(sourceTensor).\n",
      "  text_inputs = torch.tensor(clip.tokenize(\"lychee\")).to(device)\n"
     ]
    }
   ],
   "source": [
    "# 示例：准备文本输入（将所有类别转换为CLIP的文本特征）\n",
    "text_inputs = torch.tensor(clip.tokenize(\"lychee\")).to(device)"
   ]
  },
  {
   "cell_type": "code",
   "execution_count": 232,
   "metadata": {},
   "outputs": [],
   "source": [
    "# 创建DataLoader（按需调整batch_size和num_workers）\n",
    "test_loader = DataLoader(dataset, batch_size=32, shuffle=False, num_workers=4)"
   ]
  },
  {
   "cell_type": "code",
   "execution_count": null,
   "metadata": {},
   "outputs": [],
   "source": [
    "all_preds, all_labels = zeroshot_classifier_threshold(test_loader, text_inputs, threshold=0.28)"
   ]
  },
  {
   "cell_type": "code",
   "execution_count": null,
   "metadata": {},
   "outputs": [],
   "source": [
    "eval(all_labels, all_preds, target_classes)"
   ]
  }
 ],
 "metadata": {
  "kernelspec": {
   "display_name": "base",
   "language": "python",
   "name": "base"
  },
  "language_info": {
   "codemirror_mode": {
    "name": "ipython",
    "version": 3
   },
   "file_extension": ".py",
   "mimetype": "text/x-python",
   "name": "python",
   "nbconvert_exporter": "python",
   "pygments_lexer": "ipython3",
   "version": "3.10.8"
  }
 },
 "nbformat": 4,
 "nbformat_minor": 4
}
